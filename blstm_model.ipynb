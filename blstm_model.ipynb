{
 "cells": [
  {
   "cell_type": "markdown",
   "metadata": {},
   "source": [
    "# Punctuation prediction using BLSTM model"
   ]
  },
  {
   "cell_type": "markdown",
   "metadata": {},
   "source": [
    "## Installing requirements (please install [pytorch](https://pytorch.org/get-started/locally/) compatible with your cuda version before)"
   ]
  },
  {
   "cell_type": "code",
   "execution_count": null,
   "metadata": {},
   "outputs": [],
   "source": [
    "!pip install numpy\n",
    "!pip install pandas\n",
    "!pip install fasttext\n",
    "!pip install pytorch-lightning\n",
    "!pip install scikit-learn\n",
    "!pip install matplotlib\n",
    "!pip install seaborn"
   ]
  },
  {
   "cell_type": "markdown",
   "metadata": {},
   "source": [
    "## Check your cuda and gpu"
   ]
  },
  {
   "cell_type": "code",
   "execution_count": 1,
   "metadata": {
    "colab": {
     "base_uri": "https://localhost:8080/"
    },
    "id": "T2zmrra2m_ui",
    "outputId": "04853701-3893-4fe2-9902-9d3c3b53d3d9"
   },
   "outputs": [
    {
     "name": "stdout",
     "output_type": "stream",
     "text": [
      "Thu Dec 29 12:34:45 2022       \r\n",
      "+-----------------------------------------------------------------------------+\r\n",
      "| NVIDIA-SMI 470.161.03   Driver Version: 470.161.03   CUDA Version: 11.4     |\r\n",
      "|-------------------------------+----------------------+----------------------+\r\n",
      "| GPU  Name        Persistence-M| Bus-Id        Disp.A | Volatile Uncorr. ECC |\r\n",
      "| Fan  Temp  Perf  Pwr:Usage/Cap|         Memory-Usage | GPU-Util  Compute M. |\r\n",
      "|                               |                      |               MIG M. |\r\n",
      "|===============================+======================+======================|\r\n",
      "|   0  NVIDIA GeForce ...  Off  | 00000000:0B:00.0  On |                  N/A |\r\n",
      "| 30%   54C    P0   118W / 350W |    835MiB / 24245MiB |      9%      Default |\r\n",
      "|                               |                      |                  N/A |\r\n",
      "+-------------------------------+----------------------+----------------------+\r\n",
      "                                                                               \r\n",
      "+-----------------------------------------------------------------------------+\r\n",
      "| Processes:                                                                  |\r\n",
      "|  GPU   GI   CI        PID   Type   Process name                  GPU Memory |\r\n",
      "|        ID   ID                                                   Usage      |\r\n",
      "|=============================================================================|\r\n",
      "|    0   N/A  N/A      1886      G   /usr/lib/xorg/Xorg                 36MiB |\r\n",
      "|    0   N/A  N/A      2044      G   /usr/bin/gnome-shell              106MiB |\r\n",
      "|    0   N/A  N/A      2340      G   /usr/lib/xorg/Xorg                310MiB |\r\n",
      "|    0   N/A  N/A      2473      G   /usr/bin/gnome-shell               71MiB |\r\n",
      "|    0   N/A  N/A      3194      G   ...AAAAAAAAA= --shared-files       34MiB |\r\n",
      "|    0   N/A  N/A      3684      G   /usr/lib/firefox/firefox          260MiB |\r\n",
      "|    0   N/A  N/A      8352      G   ...947645039850370173,131072        9MiB |\r\n",
      "+-----------------------------------------------------------------------------+\r\n"
     ]
    }
   ],
   "source": [
    "!nvidia-smi"
   ]
  },
  {
   "cell_type": "markdown",
   "metadata": {},
   "source": [
    "## Imports and utility functions for the embedding"
   ]
  },
  {
   "cell_type": "code",
   "execution_count": 2,
   "metadata": {
    "id": "M9Jgc4wBLz7D"
   },
   "outputs": [],
   "source": [
    "import torch\n",
    "import torch.nn as nn\n",
    "import torch.nn.functional as F\n",
    "import torch.optim as optim\n",
    "from torch.utils.data import DataLoader, TensorDataset\n",
    "import pytorch_lightning as pl\n",
    "from pytorch_lightning import LightningModule\n",
    "from pytorch_lightning.callbacks.early_stopping import EarlyStopping\n",
    "import numpy as np\n",
    "import pandas as pd\n",
    "import fasttext"
   ]
  },
  {
   "cell_type": "code",
   "execution_count": 3,
   "metadata": {
    "id": "hQuMD0omMgtY"
   },
   "outputs": [],
   "source": [
    "def word_to_id(seq):\n",
    "    word2id = {}\n",
    "\n",
    "    for word in seq:\n",
    "        if word not in word2id:\n",
    "            word2id[word] = len(word2id)\n",
    "    return word2id\n",
    "\n",
    "def get_ids(sentence, word2id):\n",
    "    ids = []\n",
    "    for word in sentence:\n",
    "        if word in word2id:\n",
    "            ids.append(word2id[word])\n",
    "        else:\n",
    "            ids.append(0)\n",
    "    return torch.tensor(ids, dtype= torch.long)\n",
    "\n",
    "def get_embeddings(word2id, embedding_dim, embedding_file):\n",
    "    ft = fasttext.load_model(embedding_file)\n",
    "    embedding_matrix = np.zeros((len(word2id), embedding_dim))\n",
    "    \n",
    "    for word,i in word2id.items():\n",
    "        embedding_matrix[i] = ft[word]\n",
    "    return embedding_matrix"
   ]
  },
  {
   "cell_type": "markdown",
   "metadata": {},
   "source": [
    "## Model architecture definition"
   ]
  },
  {
   "cell_type": "code",
   "execution_count": 4,
   "metadata": {
    "id": "HPL_T83uM8Rq"
   },
   "outputs": [],
   "source": [
    "class LSTMModel(LightningModule):\n",
    "    def __init__(self, embedding_matrix, hidden_size, output_size, num_layers=1, bidirectional=True, loss_weights=None):\n",
    "        super().__init__()\n",
    "\n",
    "        self.hidden_dim = hidden_size\n",
    "\n",
    "        self.embedding = nn.Embedding(embedding_matrix.shape[0], embedding_matrix.shape[1], _weight=torch.from_numpy(embedding_matrix))\n",
    "        self.lstm = nn.LSTM(embedding_dim, hidden_size,num_layers=num_layers, dropout=0.3, bidirectional=bidirectional, batch_first=True)\n",
    "        self.dropout = nn.Dropout(0.2)\n",
    "        \n",
    "        if bidirectional:\n",
    "            self.fc1 = nn.Linear(2*hidden_size, 3*hidden_size)\n",
    "            self.fc2 = nn.Linear(3*hidden_size, output_size)\n",
    "        else:\n",
    "            self.fc1 = nn.Linear(hidden_size, 2*hidden_size)\n",
    "            self.fc2 = nn.Linear(2*hidden_size, output_size)\n",
    "        \n",
    "        self.relu = nn.ReLU()\n",
    "\n",
    "        if loss_weights is None:\n",
    "            self.loss_function = nn.NLLLoss()\n",
    "        else:\n",
    "            self.loss_function = nn.NLLLoss(weight=loss_weights)\n",
    "\n",
    "        self.lr = 0.01\n",
    "\n",
    "    def forward(self, input):        \n",
    "        x = self.embedding(input.unsqueeze(0))\n",
    "        x, _  = self.lstm(x)\n",
    "        x = self.fc1(x)\n",
    "        x = self.dropout(x)\n",
    "        x = self.relu(x)\n",
    "        x = self.fc2(x)\n",
    "        x = F.log_softmax(x, dim=2)\n",
    "        return x\n",
    "\n",
    "    def configure_optimizers(self):\n",
    "        optimizer = optim.Adam(self.parameters(), lr=self.lr)\n",
    "        return optimizer\n",
    "\n",
    "    def training_step(self, batch, batch_idx):\n",
    "        x, y = batch\n",
    "        y_hat = self(x)\n",
    "        loss = self.loss_function(y_hat[0], y)\n",
    "        return loss"
   ]
  },
  {
   "cell_type": "markdown",
   "metadata": {},
   "source": [
    "## Reading the dataset"
   ]
  },
  {
   "cell_type": "code",
   "execution_count": 5,
   "metadata": {
    "id": "Eehfm0uIPqeJ"
   },
   "outputs": [
    {
     "name": "stdout",
     "output_type": "stream",
     "text": [
      "./preprocessed_wikitext/train0-10.csv\n",
      "./preprocessed_wikitext/train1-10.csv\n",
      "./preprocessed_wikitext/train2-10.csv\n",
      "./preprocessed_wikitext/train3-10.csv\n",
      "./preprocessed_wikitext/train4-10.csv\n",
      "./preprocessed_wikitext/train5-10.csv\n",
      "./preprocessed_wikitext/train6-10.csv\n",
      "./preprocessed_wikitext/train7-10.csv\n",
      "./preprocessed_wikitext/train8-10.csv\n"
     ]
    }
   ],
   "source": [
    "words_seq = []\n",
    "labels_seq = []\n",
    "for i in range(9):\n",
    "    df = pd.read_csv(f'./preprocessed_wikitext/train{i}-10.csv').dropna()\n",
    "    words_seq += df['words'].to_list()\n",
    "    labels_seq += df['labels'].to_list()\n",
    "    print(f'./preprocessed_wikitext/train{i}-10.csv')\n",
    "    del df"
   ]
  },
  {
   "cell_type": "code",
   "execution_count": 6,
   "metadata": {},
   "outputs": [
    {
     "data": {
      "text/plain": [
       "80976257"
      ]
     },
     "execution_count": 6,
     "metadata": {},
     "output_type": "execute_result"
    }
   ],
   "source": [
    "len(words_seq)"
   ]
  },
  {
   "cell_type": "code",
   "execution_count": 7,
   "metadata": {
    "id": "U-RoGM2zPs9w"
   },
   "outputs": [],
   "source": [
    "special_labels = {',': 'I-COMMA',\n",
    "                  '.': 'I-DOT',\n",
    "                  '?': 'I-QMARK',\n",
    "                  '!': 'I-EMARK',\n",
    "                  ':': 'I-COLON',\n",
    "                  ';': 'I-SEMICOLON'}\n",
    "normal_label = 'O'\n",
    "labels_set = list(special_labels.values()) + [normal_label]\n",
    "label2id = {k:i for i, k in enumerate(labels_set)}\n",
    "id2label = {i:k for i, k in enumerate(labels_set)}"
   ]
  },
  {
   "cell_type": "markdown",
   "metadata": {},
   "source": [
    "## Transforming each word to 300d vector using embedding"
   ]
  },
  {
   "cell_type": "code",
   "execution_count": 8,
   "metadata": {
    "colab": {
     "base_uri": "https://localhost:8080/"
    },
    "id": "YSZlUUJYPjSG",
    "outputId": "09d6a28d-86b1-4113-8f67-9dd578bcbd01"
   },
   "outputs": [
    {
     "name": "stderr",
     "output_type": "stream",
     "text": [
      "Warning : `load_model` does not return WordVectorModel or SupervisedModel any more, but a `FastText` object which is very similar.\n"
     ]
    }
   ],
   "source": [
    "embedding_file = './cc.en.300.bin'\n",
    "embedding_dim = 300\n",
    "\n",
    "word2id = word_to_id(words_seq)\n",
    "embedding_matrix = get_embeddings(word2id, embedding_dim, embedding_file)"
   ]
  },
  {
   "cell_type": "code",
   "execution_count": 9,
   "metadata": {
    "id": "yjmw7nLsRHyS"
   },
   "outputs": [],
   "source": [
    "word_id_seq = get_ids(words_seq, word2id) #get_idsreturns tensor\n",
    "del words_seq\n",
    "label_id_seq = get_ids(labels_seq, label2id)\n",
    "del labels_seq"
   ]
  },
  {
   "cell_type": "markdown",
   "metadata": {},
   "source": [
    "## Using weights, we can say which labels are more important to us. For example, 'O' is not that important, and 'I-DOT' is more interesting for us."
   ]
  },
  {
   "cell_type": "code",
   "execution_count": 10,
   "metadata": {
    "id": "7Fd-9hFY-yQM"
   },
   "outputs": [],
   "source": [
    "count = label_id_seq.unique(return_counts=True)\n",
    "weights = 1 - count[1] / torch.sum(count[1])"
   ]
  },
  {
   "cell_type": "markdown",
   "metadata": {},
   "source": [
    "## Making batches with 200 word each. This will not effect the model at all. But helps to speed up the process."
   ]
  },
  {
   "cell_type": "code",
   "execution_count": 11,
   "metadata": {
    "id": "-liW-7R_SVoj"
   },
   "outputs": [],
   "source": [
    "seq_length = 200\n",
    "\n",
    "train_set = TensorDataset(word_id_seq, label_id_seq)\n",
    "train_loader = DataLoader(train_set, batch_size=seq_length)"
   ]
  },
  {
   "cell_type": "code",
   "execution_count": 12,
   "metadata": {
    "colab": {
     "base_uri": "https://localhost:8080/"
    },
    "id": "2RXbkwqWQFbG",
    "outputId": "44c5602d-4bc4-4f9d-84a9-a0fe1782dc28"
   },
   "outputs": [
    {
     "name": "stderr",
     "output_type": "stream",
     "text": [
      "/home/mostafa/anaconda3/lib/python3.9/site-packages/torch/nn/modules/rnn.py:62: UserWarning: dropout option adds dropout after all but last recurrent layer, so non-zero dropout expects num_layers greater than 1, but got dropout=0.3 and num_layers=1\n",
      "  warnings.warn(\"dropout option adds dropout after all but last \"\n"
     ]
    },
    {
     "data": {
      "text/plain": [
       "LSTMModel(\n",
       "  (embedding): Embedding(263856, 300)\n",
       "  (lstm): LSTM(300, 32, batch_first=True, dropout=0.3, bidirectional=True)\n",
       "  (dropout): Dropout(p=0.2, inplace=False)\n",
       "  (fc1): Linear(in_features=64, out_features=96, bias=True)\n",
       "  (fc2): Linear(in_features=96, out_features=7, bias=True)\n",
       "  (relu): ReLU()\n",
       "  (loss_function): NLLLoss()\n",
       ")"
      ]
     },
     "execution_count": 12,
     "metadata": {},
     "output_type": "execute_result"
    }
   ],
   "source": [
    "tagger = LSTMModel(embedding_matrix=embedding_matrix,\n",
    "                   hidden_size=32,\n",
    "                   output_size=len(labels_set),\n",
    "                   bidirectional=True,\n",
    "                   loss_weights = weights\n",
    "                   )\n",
    "tagger.float()"
   ]
  },
  {
   "cell_type": "markdown",
   "metadata": {},
   "source": [
    "## Training bins 1 to 9. "
   ]
  },
  {
   "cell_type": "code",
   "execution_count": 13,
   "metadata": {
    "colab": {
     "base_uri": "https://localhost:8080/"
    },
    "id": "8Zl_sIrcaBTF",
    "outputId": "fb3c109a-6f19-4610-d872-88c6a546ba5f"
   },
   "outputs": [
    {
     "name": "stderr",
     "output_type": "stream",
     "text": [
      "/home/mostafa/anaconda3/lib/python3.9/site-packages/pytorch_lightning/trainer/connectors/accelerator_connector.py:441: LightningDeprecationWarning: Setting `Trainer(gpus=1)` is deprecated in v1.7 and will be removed in v2.0. Please use `Trainer(accelerator='gpu', devices=1)` instead.\n",
      "  rank_zero_deprecation(\n",
      "GPU available: True (cuda), used: True\n",
      "TPU available: False, using: 0 TPU cores\n",
      "IPU available: False, using: 0 IPUs\n",
      "HPU available: False, using: 0 HPUs\n"
     ]
    }
   ],
   "source": [
    "trainer = pl.Trainer(max_epochs=4, gpus=1, default_root_dir='./blstm_models/8/')"
   ]
  },
  {
   "cell_type": "code",
   "execution_count": 14,
   "metadata": {
    "colab": {
     "base_uri": "https://localhost:8080/"
    },
    "id": "7FrjRPMQMDp5",
    "outputId": "4834c9c7-10f8-4ecc-ae93-c51f5af84019"
   },
   "outputs": [
    {
     "data": {
      "text/plain": [
       "LSTMModel(\n",
       "  (embedding): Embedding(263856, 300)\n",
       "  (lstm): LSTM(300, 32, batch_first=True, dropout=0.3, bidirectional=True)\n",
       "  (dropout): Dropout(p=0.2, inplace=False)\n",
       "  (fc1): Linear(in_features=64, out_features=96, bias=True)\n",
       "  (fc2): Linear(in_features=96, out_features=7, bias=True)\n",
       "  (relu): ReLU()\n",
       "  (loss_function): NLLLoss()\n",
       ")"
      ]
     },
     "execution_count": 14,
     "metadata": {},
     "output_type": "execute_result"
    }
   ],
   "source": [
    "tagger.unfreeze()\n",
    "tagger.train()"
   ]
  },
  {
   "cell_type": "code",
   "execution_count": 15,
   "metadata": {
    "colab": {
     "base_uri": "https://localhost:8080/",
     "height": 344,
     "referenced_widgets": [
      "5816bce79b64499381f8ec8eb3741dce",
      "cb96b0ace7a74d419d581bfeaf3c892d",
      "e0e3c38d6e7e40ab94b0df01bdd9d135",
      "85a9923c31a84320810bdc33ba00c0e4",
      "4d4f1de0e51945e9bb855717f27436e8",
      "d59f906712eb4c6e95dbf10307e85d0e",
      "265b7257876b45ab9af723cede6e2bca",
      "788871f77c8e455ba9ec75831b8dfe2c"
     ]
    },
    "id": "29kyw8iKTJZY",
    "outputId": "dfadd275-3239-4772-8cc2-1af9752b54a7"
   },
   "outputs": [
    {
     "name": "stderr",
     "output_type": "stream",
     "text": [
      "LOCAL_RANK: 0 - CUDA_VISIBLE_DEVICES: [0]\n",
      "\n",
      "  | Name          | Type      | Params\n",
      "--------------------------------------------\n",
      "0 | embedding     | Embedding | 79.2 M\n",
      "1 | lstm          | LSTM      | 85.5 K\n",
      "2 | dropout       | Dropout   | 0     \n",
      "3 | fc1           | Linear    | 6.2 K \n",
      "4 | fc2           | Linear    | 679   \n",
      "5 | relu          | ReLU      | 0     \n",
      "6 | loss_function | NLLLoss   | 0     \n",
      "--------------------------------------------\n",
      "79.2 M    Trainable params\n",
      "0         Non-trainable params\n",
      "79.2 M    Total params\n",
      "316.997   Total estimated model params size (MB)\n",
      "/home/mostafa/anaconda3/lib/python3.9/site-packages/pytorch_lightning/trainer/connectors/data_connector.py:224: PossibleUserWarning: The dataloader, train_dataloader, does not have many workers which may be a bottleneck. Consider increasing the value of the `num_workers` argument` (try 24 which is the number of cpus on this machine) in the `DataLoader` init to improve performance.\n",
      "  rank_zero_warn(\n"
     ]
    },
    {
     "data": {
      "application/vnd.jupyter.widget-view+json": {
       "model_id": "0b873670da524028beb5443633817051",
       "version_major": 2,
       "version_minor": 0
      },
      "text/plain": [
       "Training: 0it [00:00, ?it/s]"
      ]
     },
     "metadata": {},
     "output_type": "display_data"
    },
    {
     "name": "stderr",
     "output_type": "stream",
     "text": [
      "`Trainer.fit` stopped: `max_epochs=4` reached.\n"
     ]
    }
   ],
   "source": [
    "trainer.fit(tagger, train_loader)"
   ]
  },
  {
   "cell_type": "markdown",
   "metadata": {},
   "source": [
    "## Save the model checkpoint"
   ]
  },
  {
   "cell_type": "code",
   "execution_count": 16,
   "metadata": {
    "id": "KzreHauxqZMV"
   },
   "outputs": [],
   "source": [
    "trainer.save_checkpoint('./blstm_models/8/blstm_model_4_eps.ckpt')"
   ]
  },
  {
   "cell_type": "markdown",
   "metadata": {},
   "source": [
    "## Testing on the last bin of the dataset"
   ]
  },
  {
   "cell_type": "code",
   "execution_count": 17,
   "metadata": {
    "colab": {
     "base_uri": "https://localhost:8080/"
    },
    "id": "2cgK2EfddbZ_",
    "outputId": "59038a99-25b5-4629-a63d-df76f4018799"
   },
   "outputs": [
    {
     "data": {
      "text/plain": [
       "LSTMModel(\n",
       "  (embedding): Embedding(263856, 300)\n",
       "  (lstm): LSTM(300, 32, batch_first=True, dropout=0.3, bidirectional=True)\n",
       "  (dropout): Dropout(p=0.2, inplace=False)\n",
       "  (fc1): Linear(in_features=64, out_features=96, bias=True)\n",
       "  (fc2): Linear(in_features=96, out_features=7, bias=True)\n",
       "  (relu): ReLU()\n",
       "  (loss_function): NLLLoss()\n",
       ")"
      ]
     },
     "execution_count": 17,
     "metadata": {},
     "output_type": "execute_result"
    }
   ],
   "source": [
    "tagger.freeze()\n",
    "tagger.eval()"
   ]
  },
  {
   "cell_type": "code",
   "execution_count": 18,
   "metadata": {
    "id": "ApsF9P5xDpXj"
   },
   "outputs": [],
   "source": [
    "df = pd.read_csv('./preprocessed_wikitext/train9-10.csv')\n",
    "test_words_seq = df['words'].to_list()\n",
    "test_labels_seq = df['labels'].to_list()\n",
    "del df"
   ]
  },
  {
   "cell_type": "code",
   "execution_count": 19,
   "metadata": {
    "id": "8LoTaKgpDyx1"
   },
   "outputs": [],
   "source": [
    "test_word_id_seq = get_ids(test_words_seq, word2id)\n",
    "del test_words_seq\n",
    "test_label_id_seq = get_ids(test_labels_seq, label2id)\n",
    "del test_labels_seq"
   ]
  },
  {
   "cell_type": "code",
   "execution_count": 20,
   "metadata": {
    "id": "1l4TixIFD9W4"
   },
   "outputs": [],
   "source": [
    "seq_length = 200\n",
    "\n",
    "test_set = TensorDataset(test_word_id_seq, test_label_id_seq)\n",
    "test_loader = DataLoader(test_set, batch_size=seq_length)"
   ]
  },
  {
   "cell_type": "code",
   "execution_count": 21,
   "metadata": {
    "colab": {
     "base_uri": "https://localhost:8080/"
    },
    "id": "NFV2N3C7mQ-P",
    "outputId": "ac7adc03-b7cd-40ff-de8d-c8c7d86aa2be"
   },
   "outputs": [
    {
     "data": {
      "text/plain": [
       "LSTMModel(\n",
       "  (embedding): Embedding(263856, 300)\n",
       "  (lstm): LSTM(300, 32, batch_first=True, dropout=0.3, bidirectional=True)\n",
       "  (dropout): Dropout(p=0.2, inplace=False)\n",
       "  (fc1): Linear(in_features=64, out_features=96, bias=True)\n",
       "  (fc2): Linear(in_features=96, out_features=7, bias=True)\n",
       "  (relu): ReLU()\n",
       "  (loss_function): NLLLoss()\n",
       ")"
      ]
     },
     "execution_count": 21,
     "metadata": {},
     "output_type": "execute_result"
    }
   ],
   "source": [
    "tagger.cuda()"
   ]
  },
  {
   "cell_type": "code",
   "execution_count": 22,
   "metadata": {
    "id": "e3WUxKz0ELED"
   },
   "outputs": [],
   "source": [
    "preds= []\n",
    "for data in test_loader:\n",
    "    preds.append(tagger(data[0].cuda()))"
   ]
  },
  {
   "cell_type": "code",
   "execution_count": 23,
   "metadata": {
    "id": "Vli53T94IX2U"
   },
   "outputs": [],
   "source": [
    "test_preds = []\n",
    "for scores in preds:\n",
    "    scores = scores[0].detach().cpu().numpy()\n",
    "    scores = scores.argmax(axis=-1)\n",
    "    for score in scores:\n",
    "        test_preds.append(score)"
   ]
  },
  {
   "cell_type": "code",
   "execution_count": 24,
   "metadata": {
    "id": "YzE9y8xqJQo0"
   },
   "outputs": [],
   "source": [
    "true_labels = test_label_id_seq.numpy()"
   ]
  },
  {
   "cell_type": "code",
   "execution_count": 25,
   "metadata": {},
   "outputs": [],
   "source": [
    "test_preds_label_list = [*map(id2label.get, test_preds)]\n",
    "true_label_list = [*map(id2label.get, true_labels)]"
   ]
  },
  {
   "cell_type": "markdown",
   "metadata": {},
   "source": [
    "## Evaluation"
   ]
  },
  {
   "cell_type": "code",
   "execution_count": 26,
   "metadata": {
    "colab": {
     "base_uri": "https://localhost:8080/"
    },
    "id": "cF-7KcVoI8HN",
    "outputId": "1d69230c-8de8-4008-927f-a872aad80496"
   },
   "outputs": [],
   "source": [
    "from sklearn.metrics import confusion_matrix, classification_report\n",
    "import matplotlib.pyplot as plt\n",
    "import seaborn as sns"
   ]
  },
  {
   "cell_type": "code",
   "execution_count": 27,
   "metadata": {
    "colab": {
     "base_uri": "https://localhost:8080/"
    },
    "id": "8HxeDmzfzr0I",
    "outputId": "4628f9df-d6ce-453a-dfec-fe438986657f"
   },
   "outputs": [
    {
     "data": {
      "text/plain": [
       "array([[ 257295,   13355,       0,       0,       0,       0,  226052],\n",
       "       [  40013,  262077,       0,       0,       0,       0,   56264],\n",
       "       [    126,     355,       0,       0,       0,       0,     596],\n",
       "       [    296,     389,       0,       0,       0,       0,     818],\n",
       "       [   4749,    3856,       0,       0,       0,       0,    8446],\n",
       "       [   8573,     708,       0,       0,       0,       0,    9453],\n",
       "       [ 682427,  125097,       0,       0,       0,       0, 7333193]])"
      ]
     },
     "execution_count": 27,
     "metadata": {},
     "output_type": "execute_result"
    }
   ],
   "source": [
    "cm = confusion_matrix(y_true=true_label_list, y_pred=test_preds_label_list, labels=labels_set)\n",
    "cm"
   ]
  },
  {
   "cell_type": "markdown",
   "metadata": {},
   "source": [
    "### Normalizing the confusion matrix"
   ]
  },
  {
   "cell_type": "code",
   "execution_count": 28,
   "metadata": {
    "id": "WBCdozpj0qEC"
   },
   "outputs": [],
   "source": [
    "sum = np.sum(cm, axis=1)\n",
    "sum = np.expand_dims(sum, axis=1)"
   ]
  },
  {
   "cell_type": "code",
   "execution_count": 29,
   "metadata": {
    "colab": {
     "base_uri": "https://localhost:8080/"
    },
    "id": "37993LC427_6",
    "outputId": "52377ac9-14ff-4c12-93f9-1aa518d03491"
   },
   "outputs": [
    {
     "data": {
      "text/plain": [
       "array([[0.51800677, 0.02688735, 0.        , 0.        , 0.        ,\n",
       "        0.        , 0.45510588],\n",
       "       [0.11165775, 0.7313355 , 0.        , 0.        , 0.        ,\n",
       "        0.        , 0.15700676],\n",
       "       [0.11699164, 0.32961931, 0.        , 0.        , 0.        ,\n",
       "        0.        , 0.55338904],\n",
       "       [0.19693945, 0.2588157 , 0.        , 0.        , 0.        ,\n",
       "        0.        , 0.54424484],\n",
       "       [0.27851739, 0.22614509, 0.        , 0.        , 0.        ,\n",
       "        0.        , 0.49533752],\n",
       "       [0.45761717, 0.03779225, 0.        , 0.        , 0.        ,\n",
       "        0.        , 0.50459058],\n",
       "       [0.08382886, 0.01536683, 0.        , 0.        , 0.        ,\n",
       "        0.        , 0.90080431]])"
      ]
     },
     "execution_count": 29,
     "metadata": {},
     "output_type": "execute_result"
    }
   ],
   "source": [
    "nor_cm = (cm/sum)\n",
    "nor_cm"
   ]
  },
  {
   "cell_type": "code",
   "execution_count": 30,
   "metadata": {
    "colab": {
     "base_uri": "https://localhost:8080/"
    },
    "id": "txlpb8vT3TPS",
    "outputId": "0b0b4f46-7fff-42b8-9b27-6be00c36e163"
   },
   "outputs": [
    {
     "data": {
      "text/plain": [
       "array([1., 1., 1., 1., 1., 1., 1.])"
      ]
     },
     "execution_count": 30,
     "metadata": {},
     "output_type": "execute_result"
    }
   ],
   "source": [
    "nor_cm.sum(axis=1)"
   ]
  },
  {
   "cell_type": "code",
   "execution_count": 31,
   "metadata": {
    "colab": {
     "base_uri": "https://localhost:8080/",
     "height": 898
    },
    "id": "5n3YAONjJ0k1",
    "outputId": "6157d496-cc98-40c4-f26e-1240bbbd1a09"
   },
   "outputs": [
    {
     "data": {
      "text/plain": [
       "Text(114.0, 0.5, 'True Label')"
      ]
     },
     "execution_count": 31,
     "metadata": {},
     "output_type": "execute_result"
    },
    {
     "data": {
      "image/png": "[encoded data removed]",
      "text/plain": [
       "<Figure size 1080x1080 with 2 Axes>"
      ]
     },
     "metadata": {
      "needs_background": "light"
     },
     "output_type": "display_data"
    }
   ],
   "source": [
    "plot_labels = labels_set\n",
    "\n",
    "fig, ax = plt.subplots(figsize=(15, 15))\n",
    "\n",
    "sns.heatmap(nor_cm,\n",
    "            ax=ax, \n",
    "            annot=True,\n",
    "            cmap='Blues', \n",
    "            xticklabels=plot_labels,\n",
    "            yticklabels=plot_labels)\n",
    "plt.yticks(rotation=0,size=12)\n",
    "plt.xticks(size=12)\n",
    "ax.set_xlabel('Predicted Label',size=14)\n",
    "ax.set_ylabel('True Label',size=14)"
   ]
  },
  {
   "cell_type": "code",
   "execution_count": null,
   "metadata": {
    "id": "tTba9MISLdgi"
   },
   "outputs": [],
   "source": []
  }
 ],
 "metadata": {
  "accelerator": "GPU",
  "colab": {
   "provenance": []
  },
  "kernelspec": {
   "display_name": "Python 3 (ipykernel)",
   "language": "python",
   "name": "python3"
  },
  "language_info": {
   "codemirror_mode": {
    "name": "ipython",
    "version": 3
   },
   "file_extension": ".py",
   "mimetype": "text/x-python",
   "name": "python",
   "nbconvert_exporter": "python",
   "pygments_lexer": "ipython3",
   "version": "3.9.7"
  },
  "widgets": {
   "application/vnd.jupyter.widget-state+json": {
    "265b7257876b45ab9af723cede6e2bca": {
     "model_module": "@jupyter-widgets/controls",
     "model_module_version": "1.5.0",
     "model_name": "DescriptionStyleModel",
     "state": {
      "_model_module": "@jupyter-widgets/controls",
      "_model_module_version": "1.5.0",
      "_model_name": "DescriptionStyleModel",
      "_view_count": null,
      "_view_module": "@jupyter-widgets/base",
      "_view_module_version": "1.2.0",
      "_view_name": "StyleView",
      "description_width": ""
     }
    },
    "4d4f1de0e51945e9bb855717f27436e8": {
     "model_module": "@jupyter-widgets/controls",
     "model_module_version": "1.5.0",
     "model_name": "ProgressStyleModel",
     "state": {
      "_model_module": "@jupyter-widgets/controls",
      "_model_module_version": "1.5.0",
      "_model_name": "ProgressStyleModel",
      "_view_count": null,
      "_view_module": "@jupyter-widgets/base",
      "_view_module_version": "1.2.0",
      "_view_name": "StyleView",
      "bar_color": null,
      "description_width": "initial"
     }
    },
    "5816bce79b64499381f8ec8eb3741dce": {
     "model_module": "@jupyter-widgets/controls",
     "model_module_version": "1.5.0",
     "model_name": "HBoxModel",
     "state": {
      "_dom_classes": [],
      "_model_module": "@jupyter-widgets/controls",
      "_model_module_version": "1.5.0",
      "_model_name": "HBoxModel",
      "_view_count": null,
      "_view_module": "@jupyter-widgets/controls",
      "_view_module_version": "1.5.0",
      "_view_name": "HBoxView",
      "box_style": "",
      "children": [
       "IPY_MODEL_e0e3c38d6e7e40ab94b0df01bdd9d135",
       "IPY_MODEL_85a9923c31a84320810bdc33ba00c0e4"
      ],
      "layout": "IPY_MODEL_cb96b0ace7a74d419d581bfeaf3c892d"
     }
    },
    "788871f77c8e455ba9ec75831b8dfe2c": {
     "model_module": "@jupyter-widgets/base",
     "model_module_version": "1.2.0",
     "model_name": "LayoutModel",
     "state": {
      "_model_module": "@jupyter-widgets/base",
      "_model_module_version": "1.2.0",
      "_model_name": "LayoutModel",
      "_view_count": null,
      "_view_module": "@jupyter-widgets/base",
      "_view_module_version": "1.2.0",
      "_view_name": "LayoutView",
      "align_content": null,
      "align_items": null,
      "align_self": null,
      "border": null,
      "bottom": null,
      "display": null,
      "flex": null,
      "flex_flow": null,
      "grid_area": null,
      "grid_auto_columns": null,
      "grid_auto_flow": null,
      "grid_auto_rows": null,
      "grid_column": null,
      "grid_gap": null,
      "grid_row": null,
      "grid_template_areas": null,
      "grid_template_columns": null,
      "grid_template_rows": null,
      "height": null,
      "justify_content": null,
      "justify_items": null,
      "left": null,
      "margin": null,
      "max_height": null,
      "max_width": null,
      "min_height": null,
      "min_width": null,
      "object_fit": null,
      "object_position": null,
      "order": null,
      "overflow": null,
      "overflow_x": null,
      "overflow_y": null,
      "padding": null,
      "right": null,
      "top": null,
      "visibility": null,
      "width": null
     }
    },
    "85a9923c31a84320810bdc33ba00c0e4": {
     "model_module": "@jupyter-widgets/controls",
     "model_module_version": "1.5.0",
     "model_name": "HTMLModel",
     "state": {
      "_dom_classes": [],
      "_model_module": "@jupyter-widgets/controls",
      "_model_module_version": "1.5.0",
      "_model_name": "HTMLModel",
      "_view_count": null,
      "_view_module": "@jupyter-widgets/controls",
      "_view_module_version": "1.5.0",
      "_view_name": "HTMLView",
      "description": "",
      "description_tooltip": null,
      "layout": "IPY_MODEL_788871f77c8e455ba9ec75831b8dfe2c",
      "placeholder": "​",
      "style": "IPY_MODEL_265b7257876b45ab9af723cede6e2bca",
      "value": " 473275/473275 [1:59:49&lt;00:00, 65.83it/s, loss=0.487, v_num=0]"
     }
    },
    "cb96b0ace7a74d419d581bfeaf3c892d": {
     "model_module": "@jupyter-widgets/base",
     "model_module_version": "1.2.0",
     "model_name": "LayoutModel",
     "state": {
      "_model_module": "@jupyter-widgets/base",
      "_model_module_version": "1.2.0",
      "_model_name": "LayoutModel",
      "_view_count": null,
      "_view_module": "@jupyter-widgets/base",
      "_view_module_version": "1.2.0",
      "_view_name": "LayoutView",
      "align_content": null,
      "align_items": null,
      "align_self": null,
      "border": null,
      "bottom": null,
      "display": "inline-flex",
      "flex": null,
      "flex_flow": "row wrap",
      "grid_area": null,
      "grid_auto_columns": null,
      "grid_auto_flow": null,
      "grid_auto_rows": null,
      "grid_column": null,
      "grid_gap": null,
      "grid_row": null,
      "grid_template_areas": null,
      "grid_template_columns": null,
      "grid_template_rows": null,
      "height": null,
      "justify_content": null,
      "justify_items": null,
      "left": null,
      "margin": null,
      "max_height": null,
      "max_width": null,
      "min_height": null,
      "min_width": null,
      "object_fit": null,
      "object_position": null,
      "order": null,
      "overflow": null,
      "overflow_x": null,
      "overflow_y": null,
      "padding": null,
      "right": null,
      "top": null,
      "visibility": null,
      "width": "100%"
     }
    },
    "d59f906712eb4c6e95dbf10307e85d0e": {
     "model_module": "@jupyter-widgets/base",
     "model_module_version": "1.2.0",
     "model_name": "LayoutModel",
     "state": {
      "_model_module": "@jupyter-widgets/base",
      "_model_module_version": "1.2.0",
      "_model_name": "LayoutModel",
      "_view_count": null,
      "_view_module": "@jupyter-widgets/base",
      "_view_module_version": "1.2.0",
      "_view_name": "LayoutView",
      "align_content": null,
      "align_items": null,
      "align_self": null,
      "border": null,
      "bottom": null,
      "display": null,
      "flex": "2",
      "flex_flow": null,
      "grid_area": null,
      "grid_auto_columns": null,
      "grid_auto_flow": null,
      "grid_auto_rows": null,
      "grid_column": null,
      "grid_gap": null,
      "grid_row": null,
      "grid_template_areas": null,
      "grid_template_columns": null,
      "grid_template_rows": null,
      "height": null,
      "justify_content": null,
      "justify_items": null,
      "left": null,
      "margin": null,
      "max_height": null,
      "max_width": null,
      "min_height": null,
      "min_width": null,
      "object_fit": null,
      "object_position": null,
      "order": null,
      "overflow": null,
      "overflow_x": null,
      "overflow_y": null,
      "padding": null,
      "right": null,
      "top": null,
      "visibility": null,
      "width": null
     }
    },
    "e0e3c38d6e7e40ab94b0df01bdd9d135": {
     "model_module": "@jupyter-widgets/controls",
     "model_module_version": "1.5.0",
     "model_name": "FloatProgressModel",
     "state": {
      "_dom_classes": [],
      "_model_module": "@jupyter-widgets/controls",
      "_model_module_version": "1.5.0",
      "_model_name": "FloatProgressModel",
      "_view_count": null,
      "_view_module": "@jupyter-widgets/controls",
      "_view_module_version": "1.5.0",
      "_view_name": "ProgressView",
      "bar_style": "success",
      "description": "Epoch 0: 100%",
      "description_tooltip": null,
      "layout": "IPY_MODEL_d59f906712eb4c6e95dbf10307e85d0e",
      "max": 473275,
      "min": 0,
      "orientation": "horizontal",
      "style": "IPY_MODEL_4d4f1de0e51945e9bb855717f27436e8",
      "value": 473275
     }
    }
   }
  }
 },
 "nbformat": 4,
 "nbformat_minor": 1
}
