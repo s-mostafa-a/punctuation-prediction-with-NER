{
 "cells": [
  {
   "cell_type": "markdown",
   "id": "7cc6e7a2",
   "metadata": {},
   "source": [
    "# Punctuation prediction using BLSTM model on top of BERT model!"
   ]
  },
  {
   "cell_type": "markdown",
   "id": "375c6d91",
   "metadata": {},
   "source": [
    "## Installing requirements (please install [pytorch](https://pytorch.org/get-started/locally/) compatible with your cuda version before)"
   ]
  },
  {
   "cell_type": "code",
   "execution_count": null,
   "id": "81a99b1e",
   "metadata": {},
   "outputs": [],
   "source": [
    "!pip install numpy\n",
    "!pip install pandas\n",
    "!pip install transformers\n",
    "!pip install tqdm\n",
    "!pip install simpletransformers"
   ]
  },
  {
   "cell_type": "markdown",
   "id": "d7ee9207",
   "metadata": {},
   "source": [
    "## Check your cuda and gpu"
   ]
  },
  {
   "cell_type": "code",
   "execution_count": 1,
   "id": "c6b46819",
   "metadata": {},
   "outputs": [
    {
     "name": "stdout",
     "output_type": "stream",
     "text": [
      "Thu Dec 29 00:40:07 2022       \r\n",
      "+-----------------------------------------------------------------------------+\r\n",
      "| NVIDIA-SMI 470.161.03   Driver Version: 470.161.03   CUDA Version: 11.4     |\r\n",
      "|-------------------------------+----------------------+----------------------+\r\n",
      "| GPU  Name        Persistence-M| Bus-Id        Disp.A | Volatile Uncorr. ECC |\r\n",
      "| Fan  Temp  Perf  Pwr:Usage/Cap|         Memory-Usage | GPU-Util  Compute M. |\r\n",
      "|                               |                      |               MIG M. |\r\n",
      "|===============================+======================+======================|\r\n",
      "|   0  NVIDIA GeForce ...  Off  | 00000000:0B:00.0  On |                  N/A |\r\n",
      "| 30%   37C    P8    32W / 350W |    970MiB / 24245MiB |      1%      Default |\r\n",
      "|                               |                      |                  N/A |\r\n",
      "+-------------------------------+----------------------+----------------------+\r\n",
      "                                                                               \r\n",
      "+-----------------------------------------------------------------------------+\r\n",
      "| Processes:                                                                  |\r\n",
      "|  GPU   GI   CI        PID   Type   Process name                  GPU Memory |\r\n",
      "|        ID   ID                                                   Usage      |\r\n",
      "|=============================================================================|\r\n",
      "|    0   N/A  N/A      1886      G   /usr/lib/xorg/Xorg                 36MiB |\r\n",
      "|    0   N/A  N/A      2044      G   /usr/bin/gnome-shell              106MiB |\r\n",
      "|    0   N/A  N/A      2340      G   /usr/lib/xorg/Xorg                320MiB |\r\n",
      "|    0   N/A  N/A      2473      G   /usr/bin/gnome-shell               72MiB |\r\n",
      "|    0   N/A  N/A      3194      G   ...AAAAAAAAA= --shared-files       34MiB |\r\n",
      "|    0   N/A  N/A      3684      G   /usr/lib/firefox/firefox          366MiB |\r\n",
      "|    0   N/A  N/A     26133      G   ...443180929438794147,131072       27MiB |\r\n",
      "+-----------------------------------------------------------------------------+\r\n"
     ]
    }
   ],
   "source": [
    "!nvidia-smi"
   ]
  },
  {
   "cell_type": "markdown",
   "id": "b617748e",
   "metadata": {},
   "source": [
    "## Model architecture definition"
   ]
  },
  {
   "cell_type": "code",
   "execution_count": 2,
   "id": "140cc272",
   "metadata": {},
   "outputs": [],
   "source": [
    "from simpletransformers.ner import NERModel, NERArgs\n",
    "import numpy as np\n",
    "import pandas as pd\n",
    "from transformers import BertModel\n",
    "from torch import nn\n",
    "from tqdm.auto import tqdm, trange\n",
    "from torch.optim import Adam, SGD\n",
    "import torch\n",
    "from torch.utils.data import DataLoader, TensorDataset\n",
    "\n",
    "\n",
    "class BertOnBLSTM(nn.Module):\n",
    "    def __init__(self, bert_dim, output_dim, num_layers, rnn_dim):\n",
    "        super(BertOnBLSTM, self).__init__()\n",
    "        self.bert_model = BertModel.from_pretrained('bert-base-uncased')\n",
    "        self.rnn = nn.LSTM(bert_dim, rnn_dim, num_layers=num_layers, batch_first=True, bidirectional=True)\n",
    "        self.linear = nn.Linear(rnn_dim*2, output_dim)\n",
    "        self.loss_function = nn.CrossEntropyLoss()\n",
    "\n",
    "    def forward(self, x, y, seg_ids, mask):\n",
    "        bert_output = self.bert_model(x, token_type_ids=seg_ids, attention_mask=mask)\n",
    "        lstm_output, _ = self.rnn(bert_output.last_hidden_state)\n",
    "        output = self.linear(lstm_output).transpose(1, 2)\n",
    "        loss = self.loss_function(output, y)\n",
    "        return loss\n",
    "\n",
    "    def test(self, x, y, seg_ids, mask):\n",
    "        bert_output = self.bert_model(x, token_type_ids=seg_ids, attention_mask=mask)\n",
    "        lstm_output, _ = self.rnn(bert_output.last_hidden_state)\n",
    "        output = self.linear(lstm_output).transpose(1, 2)\n",
    "        loss = self.loss_function(output, y)\n",
    "        predict = self.predict_label(output.transpose(1, 2), mask)\n",
    "        return loss, predict\n",
    "\n",
    "    def predict(self, x, seg_ids, mask):\n",
    "        bert_output = self.bert_model(x, token_type_ids=seg_ids, attention_mask=mask)\n",
    "        lstm_output, _ = self.rnn(bert_output.last_hidden_state)\n",
    "        output = self.linear(lstm_output).transpose(1, 2)\n",
    "        return output.transpose(1, 2).argmax(2)\n",
    "\n",
    "    def predict_label(self, output, mask):\n",
    "        \"\"\"\n",
    "        output: batch_size, max_sentence_len, tag_num\n",
    "        mask: same label data\n",
    "        batch_label: batch_size, sentence_label\n",
    "        \"\"\"\n",
    "        pre_label = []\n",
    "        pre_label_pad = output.argmax(2)\n",
    "        for i in range(mask.shape[0]):\n",
    "            sent_label = []\n",
    "            for j in range(mask.shape[1]):\n",
    "                if mask[i, j] == 1:\n",
    "                    sent_label.append(pre_label_pad[i, j].item())\n",
    "            sent_label = sent_label[1:len(sent_label)-1]\n",
    "            pre_label.append(sent_label)\n",
    "\n",
    "        return pre_label\n"
   ]
  },
  {
   "cell_type": "code",
   "execution_count": 3,
   "id": "c5a57538",
   "metadata": {},
   "outputs": [],
   "source": [
    "special_labels = {',': 'I-COMMA',\n",
    "                  '.': 'I-DOT',\n",
    "                  '?': 'I-QMARK',\n",
    "                  '!': 'I-EMARK',\n",
    "                  ':': 'I-COLON',\n",
    "                  ';': 'I-SEMICOLON'}\n",
    "normal_label = 'O'\n",
    "labels_set = list(special_labels.values()) + [normal_label]"
   ]
  },
  {
   "cell_type": "markdown",
   "id": "dd152582",
   "metadata": {},
   "source": [
    "## Note: For this model, we import a ner model just to use its advantages in loading the data. And you can see we have set: `use_cuda=False`"
   ]
  },
  {
   "cell_type": "code",
   "execution_count": 4,
   "id": "2d2d90b3",
   "metadata": {},
   "outputs": [
    {
     "name": "stderr",
     "output_type": "stream",
     "text": [
      "Some weights of the model checkpoint at bert-base-uncased were not used when initializing BertForTokenClassification: ['cls.predictions.transform.dense.bias', 'cls.predictions.transform.LayerNorm.bias', 'cls.seq_relationship.bias', 'cls.predictions.bias', 'cls.predictions.transform.dense.weight', 'cls.predictions.transform.LayerNorm.weight', 'cls.seq_relationship.weight', 'cls.predictions.decoder.weight']\n",
      "- This IS expected if you are initializing BertForTokenClassification from the checkpoint of a model trained on another task or with another architecture (e.g. initializing a BertForSequenceClassification model from a BertForPreTraining model).\n",
      "- This IS NOT expected if you are initializing BertForTokenClassification from the checkpoint of a model that you expect to be exactly identical (initializing a BertForSequenceClassification model from a BertForSequenceClassification model).\n",
      "Some weights of BertForTokenClassification were not initialized from the model checkpoint at bert-base-uncased and are newly initialized: ['classifier.bias', 'classifier.weight']\n",
      "You should probably TRAIN this model on a down-stream task to be able to use it for predictions and inference.\n"
     ]
    }
   ],
   "source": [
    "model_args = NERArgs()\n",
    "model_args.overwrite_output_dir = True\n",
    "model_args.save_steps = -1\n",
    "ner_model = NERModel('bert',\n",
    "                 'bert-base-uncased',\n",
    "                 labels = labels_set,\n",
    "                 args=model_args,\n",
    "                 use_cuda=False)\n",
    "ner_model.args.max_seq_length = 512"
   ]
  },
  {
   "cell_type": "markdown",
   "id": "48b1d6b0",
   "metadata": {},
   "source": [
    "## Training bins 1 to 9. "
   ]
  },
  {
   "cell_type": "code",
   "execution_count": 5,
   "id": "fe606750",
   "metadata": {},
   "outputs": [
    {
     "name": "stderr",
     "output_type": "stream",
     "text": [
      "Some weights of the model checkpoint at bert-base-uncased were not used when initializing BertModel: ['cls.predictions.transform.dense.bias', 'cls.predictions.transform.LayerNorm.bias', 'cls.seq_relationship.bias', 'cls.predictions.bias', 'cls.predictions.transform.dense.weight', 'cls.predictions.transform.LayerNorm.weight', 'cls.seq_relationship.weight', 'cls.predictions.decoder.weight']\n",
      "- This IS expected if you are initializing BertModel from the checkpoint of a model trained on another task or with another architecture (e.g. initializing a BertForSequenceClassification model from a BertForPreTraining model).\n",
      "- This IS NOT expected if you are initializing BertModel from the checkpoint of a model that you expect to be exactly identical (initializing a BertForSequenceClassification model from a BertForSequenceClassification model).\n"
     ]
    }
   ],
   "source": [
    "bert_dim = 768\n",
    "output_dim = len(labels_set)\n",
    "batch_size = 32\n",
    "adam_lr = 3e-5\n",
    "epoch = 1\n",
    "num_layers = 1\n",
    "rnn_dim = 512\n",
    "model = BertOnBLSTM(bert_dim, output_dim, num_layers, rnn_dim)\n",
    "\n",
    "def train(model, tr_ds, val_ds):\n",
    "    use_gpu = torch.cuda.is_available()\n",
    "    device = torch.device('cuda:0' if use_gpu else 'cpu')\n",
    "    train_dataloader = DataLoader(tr_ds, batch_size=batch_size, shuffle=False)\n",
    "    validation_dataloader = DataLoader(val_ds, batch_size=batch_size, shuffle=True)\n",
    "    \n",
    "    \n",
    "    if use_gpu:\n",
    "        model.to(device)\n",
    "    optimizer = Adam(model.parameters(), lr=adam_lr)\n",
    "    for i in range(epoch):\n",
    "        epoch_loss = 0\n",
    "        batch_iterator = tqdm(train_dataloader, desc=f\"Running Epoch {i+1} of {epoch}\", mininterval=0)\n",
    "        \n",
    "        for (j, batch) in enumerate(batch_iterator):\n",
    "            batch_x = batch[0].to(device)\n",
    "            batch_y = batch[3].to(device)\n",
    "            batch_seg = batch[2].to(device)\n",
    "            batch_msk = batch[1].to(device)\n",
    "            loss = model(batch_x, batch_y, batch_seg, batch_msk)\n",
    "            optimizer.zero_grad()\n",
    "            loss.backward()\n",
    "            optimizer.step()\n",
    "            epoch_loss += loss.item()\n",
    "        dev_loss = 0\n",
    "        predict_idx_label = []\n",
    "\n",
    "        for (h, val_batch) in enumerate(validation_dataloader):\n",
    "            val_batch_x = val_batch[0].to(device)\n",
    "            val_batch_y = val_batch[3].to(device)\n",
    "            val_batch_seg = val_batch[2].to(device)\n",
    "            val_batch_msk = val_batch[1].to(device)\n",
    "            with torch.no_grad():\n",
    "                loss_val, pre_y = model.test(val_batch_x, val_batch_y, val_batch_seg, val_batch_msk)\n",
    "            dev_loss += loss_val.item()            \n",
    "            predict_idx_label.append(pre_y)\n",
    "        print(f\"Epoch {i+1}/{epoch}:\\n\\tTraining Loss: \\t\\t{epoch_loss/(j+1):9.4f}\\n\\tValidation Loss: \\t{dev_loss/(h+1):9.4f}\")\n",
    "        print('*******************************************************')\n"
   ]
  },
  {
   "cell_type": "code",
   "execution_count": 6,
   "id": "557d315d",
   "metadata": {},
   "outputs": [
    {
     "data": {
      "application/vnd.jupyter.widget-view+json": {
       "model_id": "1f297e89333b499e874ebcab5f777c9b",
       "version_major": 2,
       "version_minor": 0
      },
      "text/plain": [
       "  0%|          | 0/4 [00:00<?, ?it/s]"
      ]
     },
     "metadata": {},
     "output_type": "display_data"
    },
    {
     "name": "stdout",
     "output_type": "stream",
     "text": [
      "Dataset: 0\n"
     ]
    },
    {
     "data": {
      "application/vnd.jupyter.widget-view+json": {
       "model_id": "facd009b1cfc4a89be0fe963fc86c96c",
       "version_major": 2,
       "version_minor": 0
      },
      "text/plain": [
       "  0%|          | 0/45 [00:00<?, ?it/s]"
      ]
     },
     "metadata": {},
     "output_type": "display_data"
    },
    {
     "data": {
      "application/vnd.jupyter.widget-view+json": {
       "model_id": "6c78cf649cd44b78b07ba4b6dce91450",
       "version_major": 2,
       "version_minor": 0
      },
      "text/plain": [
       "Running Epoch 1 of 1:   0%|          | 0/2677 [00:00<?, ?it/s]"
      ]
     },
     "metadata": {},
     "output_type": "display_data"
    },
    {
     "name": "stdout",
     "output_type": "stream",
     "text": [
      "Epoch 1/1:\n",
      "\tTraining Loss: \t\t   0.1285\n",
      "\tValidation Loss: \t   0.0829\n",
      "*******************************************************\n",
      "Dataset: 1\n"
     ]
    },
    {
     "data": {
      "application/vnd.jupyter.widget-view+json": {
       "model_id": "13dbc10302254975b8d52e3a2cf85eca",
       "version_major": 2,
       "version_minor": 0
      },
      "text/plain": [
       "  0%|          | 0/45 [00:00<?, ?it/s]"
      ]
     },
     "metadata": {},
     "output_type": "display_data"
    },
    {
     "data": {
      "application/vnd.jupyter.widget-view+json": {
       "model_id": "ccb90cca3c7c4155956d4d9349f68c31",
       "version_major": 2,
       "version_minor": 0
      },
      "text/plain": [
       "Running Epoch 1 of 1:   0%|          | 0/2714 [00:00<?, ?it/s]"
      ]
     },
     "metadata": {},
     "output_type": "display_data"
    },
    {
     "name": "stdout",
     "output_type": "stream",
     "text": [
      "Epoch 1/1:\n",
      "\tTraining Loss: \t\t   0.0855\n",
      "\tValidation Loss: \t   0.0764\n",
      "*******************************************************\n",
      "Dataset: 2\n"
     ]
    },
    {
     "data": {
      "application/vnd.jupyter.widget-view+json": {
       "model_id": "df410b7a439046f982aa89e0f045753b",
       "version_major": 2,
       "version_minor": 0
      },
      "text/plain": [
       "  0%|          | 0/45 [00:00<?, ?it/s]"
      ]
     },
     "metadata": {},
     "output_type": "display_data"
    },
    {
     "data": {
      "application/vnd.jupyter.widget-view+json": {
       "model_id": "7f3ca11a37a249eea97173adb4349a25",
       "version_major": 2,
       "version_minor": 0
      },
      "text/plain": [
       "Running Epoch 1 of 1:   0%|          | 0/2713 [00:00<?, ?it/s]"
      ]
     },
     "metadata": {},
     "output_type": "display_data"
    },
    {
     "name": "stdout",
     "output_type": "stream",
     "text": [
      "Epoch 1/1:\n",
      "\tTraining Loss: \t\t   0.0808\n",
      "\tValidation Loss: \t   0.0733\n",
      "*******************************************************\n",
      "Dataset: 3\n"
     ]
    },
    {
     "data": {
      "application/vnd.jupyter.widget-view+json": {
       "model_id": "14eece5e61cc406c8be65bb3caf1f427",
       "version_major": 2,
       "version_minor": 0
      },
      "text/plain": [
       "  0%|          | 0/45 [00:00<?, ?it/s]"
      ]
     },
     "metadata": {},
     "output_type": "display_data"
    },
    {
     "data": {
      "application/vnd.jupyter.widget-view+json": {
       "model_id": "a8a3f07874d54203a8fef9a6e219fc17",
       "version_major": 2,
       "version_minor": 0
      },
      "text/plain": [
       "Running Epoch 1 of 1:   0%|          | 0/2704 [00:00<?, ?it/s]"
      ]
     },
     "metadata": {},
     "output_type": "display_data"
    },
    {
     "name": "stdout",
     "output_type": "stream",
     "text": [
      "Epoch 1/1:\n",
      "\tTraining Loss: \t\t   0.0779\n",
      "\tValidation Loss: \t   0.0713\n",
      "*******************************************************\n",
      "Dataset: 4\n"
     ]
    },
    {
     "data": {
      "application/vnd.jupyter.widget-view+json": {
       "model_id": "dd1d03b3ca1d4d2a9661d4d1305c7454",
       "version_major": 2,
       "version_minor": 0
      },
      "text/plain": [
       "  0%|          | 0/45 [00:00<?, ?it/s]"
      ]
     },
     "metadata": {},
     "output_type": "display_data"
    },
    {
     "data": {
      "application/vnd.jupyter.widget-view+json": {
       "model_id": "7a732dad2ee648329dcaff7d115f5c96",
       "version_major": 2,
       "version_minor": 0
      },
      "text/plain": [
       "Running Epoch 1 of 1:   0%|          | 0/2693 [00:00<?, ?it/s]"
      ]
     },
     "metadata": {},
     "output_type": "display_data"
    },
    {
     "name": "stdout",
     "output_type": "stream",
     "text": [
      "Epoch 1/1:\n",
      "\tTraining Loss: \t\t   0.0764\n",
      "\tValidation Loss: \t   0.0699\n",
      "*******************************************************\n",
      "Dataset: 5\n"
     ]
    },
    {
     "data": {
      "application/vnd.jupyter.widget-view+json": {
       "model_id": "72106fae659347b198ca8da005940883",
       "version_major": 2,
       "version_minor": 0
      },
      "text/plain": [
       "  0%|          | 0/45 [00:00<?, ?it/s]"
      ]
     },
     "metadata": {},
     "output_type": "display_data"
    },
    {
     "data": {
      "application/vnd.jupyter.widget-view+json": {
       "model_id": "de2a63d6d2cb41d6a58e67ab743b6a0f",
       "version_major": 2,
       "version_minor": 0
      },
      "text/plain": [
       "Running Epoch 1 of 1:   0%|          | 0/2695 [00:00<?, ?it/s]"
      ]
     },
     "metadata": {},
     "output_type": "display_data"
    },
    {
     "name": "stdout",
     "output_type": "stream",
     "text": [
      "Epoch 1/1:\n",
      "\tTraining Loss: \t\t   0.0757\n",
      "\tValidation Loss: \t   0.0680\n",
      "*******************************************************\n",
      "Dataset: 6\n"
     ]
    },
    {
     "data": {
      "application/vnd.jupyter.widget-view+json": {
       "model_id": "4557a35b683a456da1e147cc76e6efda",
       "version_major": 2,
       "version_minor": 0
      },
      "text/plain": [
       "  0%|          | 0/45 [00:00<?, ?it/s]"
      ]
     },
     "metadata": {},
     "output_type": "display_data"
    },
    {
     "data": {
      "application/vnd.jupyter.widget-view+json": {
       "model_id": "bc84f927d42646e888f795ba4d92c589",
       "version_major": 2,
       "version_minor": 0
      },
      "text/plain": [
       "Running Epoch 1 of 1:   0%|          | 0/2726 [00:00<?, ?it/s]"
      ]
     },
     "metadata": {},
     "output_type": "display_data"
    },
    {
     "name": "stdout",
     "output_type": "stream",
     "text": [
      "Epoch 1/1:\n",
      "\tTraining Loss: \t\t   0.0743\n",
      "\tValidation Loss: \t   0.0698\n",
      "*******************************************************\n",
      "Dataset: 7\n"
     ]
    },
    {
     "data": {
      "application/vnd.jupyter.widget-view+json": {
       "model_id": "7fb4c8cf49d9436f9005a00518dbecbc",
       "version_major": 2,
       "version_minor": 0
      },
      "text/plain": [
       "  0%|          | 0/45 [00:00<?, ?it/s]"
      ]
     },
     "metadata": {},
     "output_type": "display_data"
    },
    {
     "data": {
      "application/vnd.jupyter.widget-view+json": {
       "model_id": "c3311a5fc236497d87a9654a9a516d75",
       "version_major": 2,
       "version_minor": 0
      },
      "text/plain": [
       "Running Epoch 1 of 1:   0%|          | 0/2696 [00:00<?, ?it/s]"
      ]
     },
     "metadata": {},
     "output_type": "display_data"
    },
    {
     "name": "stdout",
     "output_type": "stream",
     "text": [
      "Epoch 1/1:\n",
      "\tTraining Loss: \t\t   0.0743\n",
      "\tValidation Loss: \t   0.0678\n",
      "*******************************************************\n",
      "Dataset: 8\n"
     ]
    },
    {
     "data": {
      "application/vnd.jupyter.widget-view+json": {
       "model_id": "520ede9fc9e14f868d3dcbc6de7f4a16",
       "version_major": 2,
       "version_minor": 0
      },
      "text/plain": [
       "  0%|          | 0/45 [00:00<?, ?it/s]"
      ]
     },
     "metadata": {},
     "output_type": "display_data"
    },
    {
     "data": {
      "application/vnd.jupyter.widget-view+json": {
       "model_id": "d7985012b43e408bb835b5c0883fba33",
       "version_major": 2,
       "version_minor": 0
      },
      "text/plain": [
       "Running Epoch 1 of 1:   0%|          | 0/2701 [00:00<?, ?it/s]"
      ]
     },
     "metadata": {},
     "output_type": "display_data"
    },
    {
     "name": "stdout",
     "output_type": "stream",
     "text": [
      "Epoch 1/1:\n",
      "\tTraining Loss: \t\t   0.0732\n",
      "\tValidation Loss: \t   0.0683\n",
      "*******************************************************\n"
     ]
    }
   ],
   "source": [
    "validation_df = pd.read_csv('./preprocessed_wikitext/validation.csv').dropna()\n",
    "validation_dataset = ner_model.load_and_cache_examples(validation_df)\n",
    "for i in range(9):\n",
    "    print(f\"Dataset: {i}\")\n",
    "    train_df = pd.read_csv(f'./preprocessed_wikitext/train{i}-10.csv').dropna()\n",
    "    train_dataset = ner_model.load_and_cache_examples(train_df)\n",
    "    train(model, train_dataset, validation_dataset)\n",
    "    torch.save(model.state_dict(), f\"./bert_on_blstm_models/{i}/blstm_on_bert_model.ckpt\")"
   ]
  },
  {
   "cell_type": "markdown",
   "id": "812768d6",
   "metadata": {},
   "source": [
    "## Testing on the last bin of the dataset"
   ]
  },
  {
   "cell_type": "code",
   "execution_count": 7,
   "id": "f53168d7",
   "metadata": {},
   "outputs": [],
   "source": [
    "from torch.utils.data import DataLoader, RandomSampler, SequentialSampler, TensorDataset\n",
    "from simpletransformers.ner.ner_utils import InputExample\n",
    "\n",
    "def chunks(l, n):\n",
    "    for i in range(0, len(l), n):\n",
    "        yield l[i:i + n]\n",
    "\n",
    "def flatten_chunk(l):\n",
    "    flat_list = []\n",
    "    for sublist in l:\n",
    "        for item in sublist:\n",
    "            flat_list.append(item)\n",
    "    return flat_list\n",
    "\n",
    "def test_model(to_predict, predictor_model, ner_model):\n",
    "    predict_examples = [InputExample(i,sentence.split(),[ner_model.args.labels_list[0] for word in sentence.lower().split()],) for i, sentence in enumerate(to_predict)]\n",
    "    eval_dataset = ner_model.load_and_cache_examples(None, evaluate=True, no_cache=True, to_predict=predict_examples)\n",
    "    eval_sampler = SequentialSampler(eval_dataset)\n",
    "    eval_dataloader = DataLoader(eval_dataset, sampler=eval_sampler, batch_size=batch_size)\n",
    "    \n",
    "    batch_to_predict = list(chunks(to_predict, batch_size))\n",
    "    eval_batch_iterator = tqdm(eval_dataloader, desc=f\"Testing!\", mininterval=0)\n",
    "    use_gpu = torch.cuda.is_available()\n",
    "    device = torch.device('cuda:0' if use_gpu else 'cpu')\n",
    "    model.to(device)\n",
    "    final_preds = []\n",
    "    for (j, val_batch) in enumerate(eval_batch_iterator):\n",
    "        val_batch_x = val_batch[0].to(device)\n",
    "        val_batch_y = val_batch[3].to(device)\n",
    "        val_batch_seg = val_batch[2].to(device)\n",
    "        val_batch_msk = val_batch[1].to(device)\n",
    "        with torch.no_grad():\n",
    "            pre_y = predictor_model.predict(val_batch_x, val_batch_seg, val_batch_msk)\n",
    "        out_label_ids = [[] for _ in range(len(val_batch_x))]\n",
    "\n",
    "        max_len = np.max([len(x) for x in val_batch_x])\n",
    "        for index, sentence in enumerate(batch_to_predict[j]):\n",
    "            for word in sentence.split():\n",
    "                word_tokens = ner_model.tokenizer.tokenize(word)\n",
    "                out_label_ids[index].extend([0] + [-100] * (len(word_tokens) - 1))\n",
    "            out_label_ids[index].insert(0, -100)\n",
    "            out_label_ids[index].append(-100)\n",
    "            if len(out_label_ids[index]) < max_len:\n",
    "                out_label_ids[index].extend([-100] * (max_len - len(out_label_ids[index])))\n",
    "        xfer_label_ids = np.zeros((len(out_label_ids), max_len))\n",
    "        for i, out_label_id in enumerate(out_label_ids):\n",
    "            for j, label in enumerate(out_label_id):\n",
    "                xfer_label_ids[i][j] = np.int32(label)\n",
    "        out_label_ids = np.array([list(x) for x in out_label_ids], np.int32)\n",
    "        preds = pre_y.to(\"cpu\")\n",
    "        label_map = {i: label for i, label in enumerate(labels_set)}\n",
    "        out_label_list = [[] for _ in range(out_label_ids.shape[0])]\n",
    "        preds_list = [[] for _ in range(out_label_ids.shape[0])]\n",
    "        for i in range(out_label_ids.shape[0]):\n",
    "            for j in range(out_label_ids.shape[1]):\n",
    "                if out_label_ids[i, j] != -100:\n",
    "                    out_label_list[i].append(label_map[out_label_ids[i][j]])\n",
    "                    preds_list[i].append(label_map[preds[i][j].item()])\n",
    "        final_preds.append(preds_list)\n",
    "    return flatten_chunk(final_preds)"
   ]
  },
  {
   "cell_type": "code",
   "execution_count": 8,
   "id": "6a7cf058",
   "metadata": {},
   "outputs": [],
   "source": [
    "import pandas as pd\n",
    "\n",
    "testdf = pd.read_csv('./preprocessed_wikitext/train9-10.csv').dropna()"
   ]
  },
  {
   "cell_type": "code",
   "execution_count": 9,
   "id": "e70c08fd",
   "metadata": {},
   "outputs": [],
   "source": [
    "groups = [df for _, df in testdf.groupby('sentence_id')]"
   ]
  },
  {
   "cell_type": "code",
   "execution_count": 10,
   "id": "884fa23e",
   "metadata": {},
   "outputs": [],
   "source": [
    "to_predicts = []\n",
    "true_labels = []\n",
    "for i, sentence in enumerate(groups):\n",
    "    to_predicts.append(' '.join(sentence['words'].to_list()))\n",
    "    true_labels.append(sentence['labels'].to_list())"
   ]
  },
  {
   "cell_type": "code",
   "execution_count": 11,
   "id": "76b93895",
   "metadata": {},
   "outputs": [
    {
     "data": {
      "application/vnd.jupyter.widget-view+json": {
       "model_id": "5afe25e396154551bedfe01525a73d53",
       "version_major": 2,
       "version_minor": 0
      },
      "text/plain": [
       "  0%|          | 0/45 [00:00<?, ?it/s]"
      ]
     },
     "metadata": {},
     "output_type": "display_data"
    },
    {
     "data": {
      "application/vnd.jupyter.widget-view+json": {
       "model_id": "923f5c2dfbde4244ab2ad320517faa9b",
       "version_major": 2,
       "version_minor": 0
      },
      "text/plain": [
       "Testing!:   0%|          | 0/2714 [00:00<?, ?it/s]"
      ]
     },
     "metadata": {},
     "output_type": "display_data"
    }
   ],
   "source": [
    "preds_list = test_model(to_predict=to_predicts, predictor_model=model, ner_model=ner_model)"
   ]
  },
  {
   "cell_type": "code",
   "execution_count": 12,
   "id": "c8f10cd0",
   "metadata": {},
   "outputs": [],
   "source": [
    "for i in range(len(preds_list)):\n",
    "    if(len(preds_list[i]) != len(true_labels[i])):\n",
    "        print('THIS IS NOT GOOD', i)"
   ]
  },
  {
   "cell_type": "markdown",
   "id": "5786071a",
   "metadata": {},
   "source": [
    "## Evaluation"
   ]
  },
  {
   "cell_type": "code",
   "execution_count": 13,
   "id": "a476c5c0",
   "metadata": {},
   "outputs": [],
   "source": [
    "import itertools\n",
    "ps = list(itertools.chain.from_iterable(preds_list))\n",
    "ts = list(itertools.chain.from_iterable(true_labels))"
   ]
  },
  {
   "cell_type": "markdown",
   "id": "9aa147bd",
   "metadata": {},
   "source": [
    "### Normalizing the confusion matrix"
   ]
  },
  {
   "cell_type": "code",
   "execution_count": 14,
   "id": "6feed6bb",
   "metadata": {},
   "outputs": [
    {
     "data": {
      "text/plain": [
       "array([[ 376158,    3062,       8,       3,     545,    1722,  115200],\n",
       "       [   1600,  335031,     124,      13,     426,     123,   21036],\n",
       "       [     33,     114,     560,       2,       1,       0,     367],\n",
       "       [     64,     395,      19,      59,      11,       0,     955],\n",
       "       [   3515,    1192,       4,       2,    6985,     852,    4501],\n",
       "       [   5253,    1690,       1,       1,     196,    9407,    2186],\n",
       "       [  73411,   12163,      52,      11,    1039,     418, 8053598]])"
      ]
     },
     "execution_count": 14,
     "metadata": {},
     "output_type": "execute_result"
    }
   ],
   "source": [
    "from sklearn.metrics import confusion_matrix, classification_report\n",
    "import matplotlib.pyplot as plt\n",
    "import seaborn as sns\n",
    "\n",
    "cm = confusion_matrix(y_true=ts,y_pred=ps, labels=labels_set)\n",
    "cm"
   ]
  },
  {
   "cell_type": "code",
   "execution_count": 15,
   "id": "615b8daf",
   "metadata": {},
   "outputs": [],
   "source": [
    "import numpy as np\n",
    "summ = np.sum(cm, axis=1)\n",
    "summ = np.expand_dims(summ, axis=1)"
   ]
  },
  {
   "cell_type": "code",
   "execution_count": 16,
   "id": "2ed91f7d",
   "metadata": {},
   "outputs": [
    {
     "data": {
      "text/plain": [
       "array([[7.57317324e-01, 6.16471176e-03, 1.61063664e-05, 6.03988742e-06,\n",
       "        1.09724621e-03, 3.46689538e-03, 2.31931677e-01],\n",
       "       [4.46487123e-03, 9.34918921e-01, 3.46027520e-04, 3.62770787e-05,\n",
       "        1.18877197e-03, 3.43236976e-04, 5.87018945e-02],\n",
       "       [3.06406685e-02, 1.05849582e-01, 5.19962860e-01, 1.85701021e-03,\n",
       "        9.28505107e-04, 0.00000000e+00, 3.40761374e-01],\n",
       "       [4.25815037e-02, 2.62807718e-01, 1.26413839e-02, 3.92548237e-02,\n",
       "        7.31869594e-03, 0.00000000e+00, 6.35395875e-01],\n",
       "       [2.06146267e-01, 6.99079233e-02, 2.34590347e-04, 1.17295173e-04,\n",
       "        4.09653393e-01, 4.99677438e-02, 2.63972788e-01],\n",
       "       [2.80399274e-01, 9.02103128e-02, 5.33788833e-05, 5.33788833e-05,\n",
       "        1.04622611e-02, 5.02135155e-01, 1.16686239e-01],\n",
       "       [9.01778375e-03, 1.49409903e-03, 6.38766336e-06, 1.35123648e-06,\n",
       "        1.27630427e-04, 5.13469862e-05, 9.89301401e-01]])"
      ]
     },
     "execution_count": 16,
     "metadata": {},
     "output_type": "execute_result"
    }
   ],
   "source": [
    "nor_cm = (cm/summ)\n",
    "nor_cm"
   ]
  },
  {
   "cell_type": "code",
   "execution_count": 17,
   "id": "73e54853",
   "metadata": {},
   "outputs": [
    {
     "data": {
      "text/plain": [
       "array([1., 1., 1., 1., 1., 1., 1.])"
      ]
     },
     "execution_count": 17,
     "metadata": {},
     "output_type": "execute_result"
    }
   ],
   "source": [
    "nor_cm.sum(axis=1)"
   ]
  },
  {
   "cell_type": "code",
   "execution_count": 18,
   "id": "a77f3abb",
   "metadata": {},
   "outputs": [
    {
     "name": "stdout",
     "output_type": "stream",
     "text": [
      "              precision    recall  f1-score   support\n",
      "\n",
      "     I-COLON       0.76      0.41      0.53     17051\n",
      "     I-COMMA       0.82      0.76      0.79    496698\n",
      "       I-DOT       0.95      0.93      0.94    358353\n",
      "     I-EMARK       0.65      0.04      0.07      1503\n",
      "     I-QMARK       0.73      0.52      0.61      1077\n",
      " I-SEMICOLON       0.75      0.50      0.60     18734\n",
      "           O       0.98      0.99      0.99   8140692\n",
      "\n",
      "    accuracy                           0.97   9034108\n",
      "   macro avg       0.81      0.59      0.65   9034108\n",
      "weighted avg       0.97      0.97      0.97   9034108\n",
      "\n"
     ]
    }
   ],
   "source": [
    "print(classification_report(ts, ps))"
   ]
  },
  {
   "cell_type": "code",
   "execution_count": 19,
   "id": "b21e6580",
   "metadata": {},
   "outputs": [
    {
     "data": {
      "text/plain": [
       "Text(114.0, 0.5, 'True Label')"
      ]
     },
     "execution_count": 19,
     "metadata": {},
     "output_type": "execute_result"
    },
    {
     "data": {
      "image/png": "[encoded data removed]",
      "text/plain": [
       "<Figure size 1080x1080 with 2 Axes>"
      ]
     },
     "metadata": {
      "needs_background": "light"
     },
     "output_type": "display_data"
    }
   ],
   "source": [
    "plot_labels = labels_set\n",
    "fig, ax = plt.subplots(figsize=(15, 15))\n",
    "sns.heatmap(nor_cm,\n",
    "            ax=ax, \n",
    "            annot=True,\n",
    "            cmap='Blues',\n",
    "            xticklabels=plot_labels,\n",
    "            yticklabels=plot_labels)\n",
    "plt.yticks(rotation=0,size=12)\n",
    "plt.xticks(size=12)\n",
    "ax.set_xlabel('Predicted Label',size=14)\n",
    "ax.set_ylabel('True Label',size=14)"
   ]
  },
  {
   "cell_type": "code",
   "execution_count": null,
   "id": "b4e220da",
   "metadata": {},
   "outputs": [],
   "source": []
  }
 ],
 "metadata": {
  "kernelspec": {
   "display_name": "Python 3 (ipykernel)",
   "language": "python",
   "name": "python3"
  },
  "language_info": {
   "codemirror_mode": {
    "name": "ipython",
    "version": 3
   },
   "file_extension": ".py",
   "mimetype": "text/x-python",
   "name": "python",
   "nbconvert_exporter": "python",
   "pygments_lexer": "ipython3",
   "version": "3.9.7"
  }
 },
 "nbformat": 4,
 "nbformat_minor": 5
}
