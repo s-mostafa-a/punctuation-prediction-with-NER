{
 "cells": [
  {
   "cell_type": "code",
   "execution_count": 1,
   "id": "140cc272",
   "metadata": {},
   "outputs": [],
   "source": [
    "from simpletransformers.ner import NERModel, NERArgs\n",
    "import numpy as np\n",
    "import pandas as pd\n",
    "from transformers import BertModel\n",
    "from torch import nn\n",
    "from tqdm.auto import tqdm, trange\n",
    "from torch.optim import Adam, SGD\n",
    "import torch\n",
    "from torch.utils.data import DataLoader, TensorDataset\n",
    "\n",
    "\n",
    "class BertOnBLSTM(nn.Module):\n",
    "    def __init__(self, bert_dim, output_dim, num_layers, rnn_dim):\n",
    "        super(BertOnBLSTM, self).__init__()\n",
    "        self.bert_model = BertModel.from_pretrained('bert-base-uncased')\n",
    "        self.rnn = nn.LSTM(bert_dim, rnn_dim, num_layers=num_layers, batch_first=True, bidirectional=True)\n",
    "        self.linear = nn.Linear(rnn_dim*2, output_dim)\n",
    "        self.loss_function = nn.CrossEntropyLoss()\n",
    "\n",
    "    def forward(self, x, y, seg_ids, mask):\n",
    "        bert_output = self.bert_model(x, token_type_ids=seg_ids, attention_mask=mask)\n",
    "        lstm_output, _ = self.rnn(bert_output.last_hidden_state)\n",
    "        output = self.linear(lstm_output).transpose(1, 2)\n",
    "        loss = self.loss_function(output, y)\n",
    "        return loss\n",
    "\n",
    "    def test(self, x, y, seg_ids, mask):\n",
    "        bert_output = self.bert_model(x, token_type_ids=seg_ids, attention_mask=mask)\n",
    "        lstm_output, _ = self.rnn(bert_output.last_hidden_state)\n",
    "        output = self.linear(lstm_output).transpose(1, 2)\n",
    "        loss = self.loss_function(output, y)\n",
    "        predict = self.predict_label(output.transpose(1, 2), mask)\n",
    "        return loss, predict\n",
    "\n",
    "    def predict(self, x, seg_ids, mask):\n",
    "        bert_output = self.bert_model(x, token_type_ids=seg_ids, attention_mask=mask)\n",
    "        lstm_output, _ = self.rnn(bert_output.last_hidden_state)\n",
    "        output = self.linear(lstm_output).transpose(1, 2)\n",
    "        return output.transpose(1, 2).argmax(2)\n",
    "\n",
    "    def predict_label(self, output, mask):\n",
    "        \"\"\"\n",
    "        output: batch_size, max_sentence_len, tag_num\n",
    "        mask: same label data\n",
    "        batch_label: batch_size, sentence_label\n",
    "        \"\"\"\n",
    "        pre_label = []\n",
    "        pre_label_pad = output.argmax(2)\n",
    "        for i in range(mask.shape[0]):\n",
    "            sent_label = []\n",
    "            for j in range(mask.shape[1]):\n",
    "                if mask[i, j] == 1:\n",
    "                    sent_label.append(pre_label_pad[i, j].item())\n",
    "            sent_label = sent_label[1:len(sent_label)-1]\n",
    "            pre_label.append(sent_label)\n",
    "\n",
    "        return pre_label\n"
   ]
  },
  {
   "cell_type": "code",
   "execution_count": 2,
   "id": "c5a57538",
   "metadata": {},
   "outputs": [],
   "source": [
    "special_labels = {',': 'I-COMMA',\n",
    "                  '.': 'I-DOT',\n",
    "                  '?': 'I-QMARK',\n",
    "                  '!': 'I-EMARK',\n",
    "                  ':': 'I-COLON',\n",
    "                  ';': 'I-SEMICOLON'}\n",
    "normal_label = 'O'\n",
    "labels_set = list(special_labels.values()) + [normal_label]"
   ]
  },
  {
   "cell_type": "code",
   "execution_count": 3,
   "id": "2d2d90b3",
   "metadata": {},
   "outputs": [
    {
     "name": "stderr",
     "output_type": "stream",
     "text": [
      "Some weights of the model checkpoint at bert-base-uncased were not used when initializing BertForTokenClassification: ['cls.predictions.decoder.weight', 'cls.predictions.bias', 'cls.predictions.transform.LayerNorm.weight', 'cls.seq_relationship.weight', 'cls.predictions.transform.dense.bias', 'cls.seq_relationship.bias', 'cls.predictions.transform.LayerNorm.bias', 'cls.predictions.transform.dense.weight']\n",
      "- This IS expected if you are initializing BertForTokenClassification from the checkpoint of a model trained on another task or with another architecture (e.g. initializing a BertForSequenceClassification model from a BertForPreTraining model).\n",
      "- This IS NOT expected if you are initializing BertForTokenClassification from the checkpoint of a model that you expect to be exactly identical (initializing a BertForSequenceClassification model from a BertForSequenceClassification model).\n",
      "Some weights of BertForTokenClassification were not initialized from the model checkpoint at bert-base-uncased and are newly initialized: ['classifier.weight', 'classifier.bias']\n",
      "You should probably TRAIN this model on a down-stream task to be able to use it for predictions and inference.\n"
     ]
    }
   ],
   "source": [
    "model_args = NERArgs()\n",
    "model_args.overwrite_output_dir = True\n",
    "model_args.save_steps = -1\n",
    "ner_model = NERModel('bert',\n",
    "                 'bert-base-uncased',\n",
    "                 labels = labels_set,\n",
    "                 args=model_args,\n",
    "                 use_cuda=False)\n",
    "ner_model.args.max_seq_length = 512"
   ]
  },
  {
   "cell_type": "code",
   "execution_count": 7,
   "id": "fe606750",
   "metadata": {},
   "outputs": [
    {
     "name": "stderr",
     "output_type": "stream",
     "text": [
      "Some weights of the model checkpoint at bert-base-uncased were not used when initializing BertModel: ['cls.predictions.decoder.weight', 'cls.predictions.bias', 'cls.predictions.transform.LayerNorm.weight', 'cls.seq_relationship.weight', 'cls.predictions.transform.dense.bias', 'cls.seq_relationship.bias', 'cls.predictions.transform.LayerNorm.bias', 'cls.predictions.transform.dense.weight']\n",
      "- This IS expected if you are initializing BertModel from the checkpoint of a model trained on another task or with another architecture (e.g. initializing a BertForSequenceClassification model from a BertForPreTraining model).\n",
      "- This IS NOT expected if you are initializing BertModel from the checkpoint of a model that you expect to be exactly identical (initializing a BertForSequenceClassification model from a BertForSequenceClassification model).\n"
     ]
    }
   ],
   "source": [
    "bert_dim = 768\n",
    "output_dim = len(labels_set)\n",
    "batch_size = 32\n",
    "adam_lr = 3e-5\n",
    "epoch = 1\n",
    "num_layers = 1\n",
    "rnn_dim = 512\n",
    "model = BertOnBLSTM(bert_dim, output_dim, num_layers, rnn_dim)\n",
    "\n",
    "def train(model, tr_ds, val_ds):\n",
    "    use_gpu = torch.cuda.is_available()\n",
    "    device = torch.device('cuda:0' if use_gpu else 'cpu')\n",
    "    train_dataloader = DataLoader(tr_ds, batch_size=batch_size, shuffle=False)\n",
    "    validation_dataloader = DataLoader(val_ds, batch_size=batch_size, shuffle=True)\n",
    "    \n",
    "    \n",
    "    if use_gpu:\n",
    "        model.to(device)\n",
    "    optimizer = Adam(model.parameters(), lr=adam_lr)\n",
    "    for i in range(epoch):\n",
    "        epoch_loss = 0\n",
    "        batch_iterator = tqdm(train_dataloader, desc=f\"Running Epoch {i+1} of {epoch}\", mininterval=0)\n",
    "        \n",
    "        for (j, batch) in enumerate(batch_iterator):\n",
    "            batch_x = batch[0].to(device)\n",
    "            batch_y = batch[3].to(device)\n",
    "            batch_seg = batch[2].to(device)\n",
    "            batch_msk = batch[1].to(device)\n",
    "            loss = model(batch_x, batch_y, batch_seg, batch_msk)\n",
    "            optimizer.zero_grad()\n",
    "            loss.backward()\n",
    "            optimizer.step()\n",
    "            epoch_loss += loss.item()\n",
    "        dev_loss = 0\n",
    "        predict_idx_label = []\n",
    "\n",
    "        for (h, val_batch) in enumerate(validation_dataloader):\n",
    "            val_batch_x = val_batch[0].to(device)\n",
    "            val_batch_y = val_batch[3].to(device)\n",
    "            val_batch_seg = val_batch[2].to(device)\n",
    "            val_batch_msk = val_batch[1].to(device)\n",
    "            with torch.no_grad():\n",
    "                loss_val, pre_y = model.test(val_batch_x, val_batch_y, val_batch_seg, val_batch_msk)\n",
    "            dev_loss += loss_val.item()            \n",
    "            predict_idx_label.append(pre_y)\n",
    "        print(f\"Epoch {i+1}/{epoch}:\\n\\tTraining Loss: \\t\\t{epoch_loss/(j+1):9.4f}\\n\\tValidation Loss: \\t{dev_loss/(h+1):9.4f}\")\n",
    "        print('*******************************************************')\n"
   ]
  },
  {
   "cell_type": "code",
   "execution_count": 8,
   "id": "d1f8ccb1",
   "metadata": {},
   "outputs": [
    {
     "data": {
      "application/vnd.jupyter.widget-view+json": {
       "model_id": "afad86957dc64bda88e9d32def855b55",
       "version_major": 2,
       "version_minor": 0
      },
      "text/plain": [
       "Running Epoch 1 of 1:   0%|          | 0/2677 [00:00<?, ?it/s]"
      ]
     },
     "metadata": {},
     "output_type": "display_data"
    },
    {
     "name": "stdout",
     "output_type": "stream",
     "text": [
      "Epoch 1/1:\n",
      "\tTraining Loss: \t\t   0.1258\n",
      "\tValidation Loss: \t   0.0818\n",
      "*******************************************************\n"
     ]
    }
   ],
   "source": []
  },
  {
   "cell_type": "code",
   "execution_count": 24,
   "id": "557d315d",
   "metadata": {},
   "outputs": [
    {
     "data": {
      "application/vnd.jupyter.widget-view+json": {
       "model_id": "8f966e62c52d4153ac2f0f21e7c2bf4b",
       "version_major": 2,
       "version_minor": 0
      },
      "text/plain": [
       "  0%|          | 0/4 [00:00<?, ?it/s]"
      ]
     },
     "metadata": {},
     "output_type": "display_data"
    },
    {
     "name": "stdout",
     "output_type": "stream",
     "text": [
      "Dataset: 1\n"
     ]
    },
    {
     "data": {
      "application/vnd.jupyter.widget-view+json": {
       "model_id": "880966e795944f01a49ea1e718d58de4",
       "version_major": 2,
       "version_minor": 0
      },
      "text/plain": [
       "  0%|          | 0/45 [00:00<?, ?it/s]"
      ]
     },
     "metadata": {},
     "output_type": "display_data"
    },
    {
     "data": {
      "application/vnd.jupyter.widget-view+json": {
       "model_id": "ba5f7a8893ed4676847b311aabf65ae0",
       "version_major": 2,
       "version_minor": 0
      },
      "text/plain": [
       "Running Epoch 1 of 1:   0%|          | 0/2714 [00:00<?, ?it/s]"
      ]
     },
     "metadata": {},
     "output_type": "display_data"
    },
    {
     "name": "stdout",
     "output_type": "stream",
     "text": [
      "Epoch 1/1:\n",
      "\tTraining Loss: \t\t   0.0845\n",
      "\tValidation Loss: \t   0.0750\n",
      "*******************************************************\n",
      "Dataset: 2\n"
     ]
    },
    {
     "data": {
      "application/vnd.jupyter.widget-view+json": {
       "model_id": "2acd088dd8c34a488a468852a88f3457",
       "version_major": 2,
       "version_minor": 0
      },
      "text/plain": [
       "  0%|          | 0/45 [00:00<?, ?it/s]"
      ]
     },
     "metadata": {},
     "output_type": "display_data"
    },
    {
     "data": {
      "application/vnd.jupyter.widget-view+json": {
       "model_id": "af447c9e00db4887916da511687b9b5a",
       "version_major": 2,
       "version_minor": 0
      },
      "text/plain": [
       "Running Epoch 1 of 1:   0%|          | 0/2713 [00:00<?, ?it/s]"
      ]
     },
     "metadata": {},
     "output_type": "display_data"
    },
    {
     "name": "stdout",
     "output_type": "stream",
     "text": [
      "Epoch 1/1:\n",
      "\tTraining Loss: \t\t   0.0803\n",
      "\tValidation Loss: \t   0.0729\n",
      "*******************************************************\n",
      "Dataset: 3\n"
     ]
    },
    {
     "data": {
      "application/vnd.jupyter.widget-view+json": {
       "model_id": "02d0c2badc074bbc98313dab96d9c6f0",
       "version_major": 2,
       "version_minor": 0
      },
      "text/plain": [
       "  0%|          | 0/45 [00:00<?, ?it/s]"
      ]
     },
     "metadata": {},
     "output_type": "display_data"
    },
    {
     "data": {
      "application/vnd.jupyter.widget-view+json": {
       "model_id": "40f50539ec2f43d3a00f9a18e293e76e",
       "version_major": 2,
       "version_minor": 0
      },
      "text/plain": [
       "Running Epoch 1 of 1:   0%|          | 0/2704 [00:00<?, ?it/s]"
      ]
     },
     "metadata": {},
     "output_type": "display_data"
    },
    {
     "name": "stdout",
     "output_type": "stream",
     "text": [
      "Epoch 1/1:\n",
      "\tTraining Loss: \t\t   0.0776\n",
      "\tValidation Loss: \t   0.0718\n",
      "*******************************************************\n",
      "Dataset: 4\n"
     ]
    },
    {
     "data": {
      "application/vnd.jupyter.widget-view+json": {
       "model_id": "a3d3ed493ee446be8d130d873eceb093",
       "version_major": 2,
       "version_minor": 0
      },
      "text/plain": [
       "  0%|          | 0/45 [00:00<?, ?it/s]"
      ]
     },
     "metadata": {},
     "output_type": "display_data"
    },
    {
     "data": {
      "application/vnd.jupyter.widget-view+json": {
       "model_id": "65ec8443643f41f49e24bf354f7d9f13",
       "version_major": 2,
       "version_minor": 0
      },
      "text/plain": [
       "Running Epoch 1 of 1:   0%|          | 0/2693 [00:00<?, ?it/s]"
      ]
     },
     "metadata": {},
     "output_type": "display_data"
    },
    {
     "name": "stdout",
     "output_type": "stream",
     "text": [
      "Epoch 1/1:\n",
      "\tTraining Loss: \t\t   0.0763\n",
      "\tValidation Loss: \t   0.0697\n",
      "*******************************************************\n",
      "Dataset: 5\n"
     ]
    },
    {
     "data": {
      "application/vnd.jupyter.widget-view+json": {
       "model_id": "ab2073cb6ef34f6c882646219f3d2ed8",
       "version_major": 2,
       "version_minor": 0
      },
      "text/plain": [
       "  0%|          | 0/45 [00:00<?, ?it/s]"
      ]
     },
     "metadata": {},
     "output_type": "display_data"
    },
    {
     "data": {
      "application/vnd.jupyter.widget-view+json": {
       "model_id": "ddbfadd21ece4c8ebade5572e32659b6",
       "version_major": 2,
       "version_minor": 0
      },
      "text/plain": [
       "Running Epoch 1 of 1:   0%|          | 0/2695 [00:00<?, ?it/s]"
      ]
     },
     "metadata": {},
     "output_type": "display_data"
    },
    {
     "name": "stdout",
     "output_type": "stream",
     "text": [
      "Epoch 1/1:\n",
      "\tTraining Loss: \t\t   0.0756\n",
      "\tValidation Loss: \t   0.0681\n",
      "*******************************************************\n",
      "Dataset: 6\n"
     ]
    },
    {
     "data": {
      "application/vnd.jupyter.widget-view+json": {
       "model_id": "aeecd15b9c2244ef94e268ee57f5d50c",
       "version_major": 2,
       "version_minor": 0
      },
      "text/plain": [
       "  0%|          | 0/45 [00:00<?, ?it/s]"
      ]
     },
     "metadata": {},
     "output_type": "display_data"
    },
    {
     "data": {
      "application/vnd.jupyter.widget-view+json": {
       "model_id": "6260d11bce4e4c01ac711d75bd3ec048",
       "version_major": 2,
       "version_minor": 0
      },
      "text/plain": [
       "Running Epoch 1 of 1:   0%|          | 0/2726 [00:00<?, ?it/s]"
      ]
     },
     "metadata": {},
     "output_type": "display_data"
    },
    {
     "name": "stdout",
     "output_type": "stream",
     "text": [
      "Epoch 1/1:\n",
      "\tTraining Loss: \t\t   0.0741\n",
      "\tValidation Loss: \t   0.0701\n",
      "*******************************************************\n",
      "Dataset: 7\n"
     ]
    },
    {
     "data": {
      "application/vnd.jupyter.widget-view+json": {
       "model_id": "8058d2d0c3524a34b68a9e97c2d4d1fe",
       "version_major": 2,
       "version_minor": 0
      },
      "text/plain": [
       "  0%|          | 0/45 [00:00<?, ?it/s]"
      ]
     },
     "metadata": {},
     "output_type": "display_data"
    },
    {
     "data": {
      "application/vnd.jupyter.widget-view+json": {
       "model_id": "2d1558f459c74180bdb115ef8da528ff",
       "version_major": 2,
       "version_minor": 0
      },
      "text/plain": [
       "Running Epoch 1 of 1:   0%|          | 0/2696 [00:00<?, ?it/s]"
      ]
     },
     "metadata": {},
     "output_type": "display_data"
    },
    {
     "name": "stdout",
     "output_type": "stream",
     "text": [
      "Epoch 1/1:\n",
      "\tTraining Loss: \t\t   0.0743\n",
      "\tValidation Loss: \t   0.0681\n",
      "*******************************************************\n",
      "Dataset: 8\n"
     ]
    },
    {
     "data": {
      "application/vnd.jupyter.widget-view+json": {
       "model_id": "28f19d62f03b4c4b8613fe0a5aceb07c",
       "version_major": 2,
       "version_minor": 0
      },
      "text/plain": [
       "  0%|          | 0/45 [00:00<?, ?it/s]"
      ]
     },
     "metadata": {},
     "output_type": "display_data"
    },
    {
     "data": {
      "application/vnd.jupyter.widget-view+json": {
       "model_id": "82a0e11cf1c24ce1b65f40a6c7f52f92",
       "version_major": 2,
       "version_minor": 0
      },
      "text/plain": [
       "Running Epoch 1 of 1:   0%|          | 0/2701 [00:00<?, ?it/s]"
      ]
     },
     "metadata": {},
     "output_type": "display_data"
    },
    {
     "name": "stdout",
     "output_type": "stream",
     "text": [
      "Epoch 1/1:\n",
      "\tTraining Loss: \t\t   0.0731\n",
      "\tValidation Loss: \t   0.0679\n",
      "*******************************************************\n",
      "Dataset: 9\n"
     ]
    },
    {
     "data": {
      "application/vnd.jupyter.widget-view+json": {
       "model_id": "0cf400d59cc3426281253f6aeb1999e5",
       "version_major": 2,
       "version_minor": 0
      },
      "text/plain": [
       "  0%|          | 0/45 [00:00<?, ?it/s]"
      ]
     },
     "metadata": {},
     "output_type": "display_data"
    },
    {
     "data": {
      "application/vnd.jupyter.widget-view+json": {
       "model_id": "fa7396eebb0542c79cccbd1d21cc5749",
       "version_major": 2,
       "version_minor": 0
      },
      "text/plain": [
       "Running Epoch 1 of 1:   0%|          | 0/2714 [00:00<?, ?it/s]"
      ]
     },
     "metadata": {},
     "output_type": "display_data"
    },
    {
     "name": "stdout",
     "output_type": "stream",
     "text": [
      "Epoch 1/1:\n",
      "\tTraining Loss: \t\t   0.0747\n",
      "\tValidation Loss: \t   0.0678\n",
      "*******************************************************\n"
     ]
    }
   ],
   "source": [
    "validation_df = pd.read_csv('./preprocessed_wikitext/validation.csv').dropna()\n",
    "validation_dataset = ner_model.load_and_cache_examples(validation_df)\n",
    "for i in range(1, 10):\n",
    "    print(f\"Dataset: {i}\")\n",
    "    train_df = pd.read_csv(f'./preprocessed_wikitext/train{i}-10.csv').dropna()\n",
    "    train_dataset = ner_model.load_and_cache_examples(train_df)\n",
    "    train(model, train_dataset, validation_dataset)\n",
    "    torch.save(model.state_dict(), f\"./bert_on_blstm_models/{i}/model.json\")"
   ]
  },
  {
   "cell_type": "code",
   "execution_count": 9,
   "id": "0d94c3ac",
   "metadata": {},
   "outputs": [],
   "source": []
  },
  {
   "cell_type": "code",
   "execution_count": null,
   "id": "c52617d5",
   "metadata": {},
   "outputs": [],
   "source": []
  },
  {
   "cell_type": "code",
   "execution_count": null,
   "id": "ff959b06",
   "metadata": {},
   "outputs": [],
   "source": []
  },
  {
   "cell_type": "code",
   "execution_count": null,
   "id": "24583b46",
   "metadata": {},
   "outputs": [],
   "source": []
  },
  {
   "cell_type": "code",
   "execution_count": null,
   "id": "8303f175",
   "metadata": {},
   "outputs": [],
   "source": []
  },
  {
   "cell_type": "code",
   "execution_count": null,
   "id": "08f422d5",
   "metadata": {},
   "outputs": [],
   "source": []
  },
  {
   "cell_type": "code",
   "execution_count": 4,
   "id": "a0aa2cc9",
   "metadata": {},
   "outputs": [],
   "source": []
  },
  {
   "cell_type": "code",
   "execution_count": 32,
   "id": "c5194608",
   "metadata": {},
   "outputs": [],
   "source": []
  },
  {
   "cell_type": "code",
   "execution_count": null,
   "id": "1a118bca",
   "metadata": {},
   "outputs": [],
   "source": []
  },
  {
   "cell_type": "code",
   "execution_count": 25,
   "id": "f53168d7",
   "metadata": {},
   "outputs": [],
   "source": [
    "from torch.utils.data import DataLoader, RandomSampler, SequentialSampler, TensorDataset\n",
    "from simpletransformers.ner.ner_utils import InputExample\n",
    "\n",
    "def chunks(l, n):\n",
    "    for i in range(0, len(l), n):\n",
    "        yield l[i:i + n]\n",
    "\n",
    "def flatten_chunk(l):\n",
    "    flat_list = []\n",
    "    for sublist in l:\n",
    "        for item in sublist:\n",
    "            flat_list.append(item)\n",
    "    return flat_list\n",
    "\n",
    "def test_model(to_predict, predictor_model, ner_model):\n",
    "    predict_examples = [InputExample(i,sentence.split(),[ner_model.args.labels_list[0] for word in sentence.lower().split()],) for i, sentence in enumerate(to_predict)]\n",
    "    eval_dataset = ner_model.load_and_cache_examples(None, evaluate=True, no_cache=True, to_predict=predict_examples)\n",
    "    eval_sampler = SequentialSampler(eval_dataset)\n",
    "    eval_dataloader = DataLoader(eval_dataset, sampler=eval_sampler, batch_size=batch_size)\n",
    "    \n",
    "    batch_to_predict = list(chunks(to_predict, batch_size))\n",
    "    eval_batch_iterator = tqdm(eval_dataloader, desc=f\"Testing!\", mininterval=0)\n",
    "    use_gpu = torch.cuda.is_available()\n",
    "    device = torch.device('cuda:0' if use_gpu else 'cpu')\n",
    "    model.to(device)\n",
    "    final_preds = []\n",
    "    for (j, val_batch) in enumerate(eval_batch_iterator):\n",
    "        val_batch_x = val_batch[0].to(device)\n",
    "        val_batch_y = val_batch[3].to(device)\n",
    "        val_batch_seg = val_batch[2].to(device)\n",
    "        val_batch_msk = val_batch[1].to(device)\n",
    "        with torch.no_grad():\n",
    "            pre_y = predictor_model.predict(val_batch_x, val_batch_seg, val_batch_msk)\n",
    "        out_label_ids = [[] for _ in range(len(val_batch_x))]\n",
    "\n",
    "        max_len = np.max([len(x) for x in val_batch_x])\n",
    "        for index, sentence in enumerate(batch_to_predict[j]):\n",
    "            for word in sentence.split():\n",
    "                word_tokens = ner_model.tokenizer.tokenize(word)\n",
    "                out_label_ids[index].extend([0] + [-100] * (len(word_tokens) - 1))\n",
    "            out_label_ids[index].insert(0, -100)\n",
    "            out_label_ids[index].append(-100)\n",
    "            if len(out_label_ids[index]) < max_len:\n",
    "                out_label_ids[index].extend([-100] * (max_len - len(out_label_ids[index])))\n",
    "        xfer_label_ids = np.zeros((len(out_label_ids), max_len))\n",
    "        for i, out_label_id in enumerate(out_label_ids):\n",
    "            for j, label in enumerate(out_label_id):\n",
    "                xfer_label_ids[i][j] = np.int32(label)\n",
    "        out_label_ids = np.array([list(x) for x in out_label_ids], np.int32)\n",
    "        preds = pre_y.to(\"cpu\")\n",
    "        label_map = {i: label for i, label in enumerate(labels_set)}\n",
    "        out_label_list = [[] for _ in range(out_label_ids.shape[0])]\n",
    "        preds_list = [[] for _ in range(out_label_ids.shape[0])]\n",
    "        for i in range(out_label_ids.shape[0]):\n",
    "            for j in range(out_label_ids.shape[1]):\n",
    "                if out_label_ids[i, j] != -100:\n",
    "                    out_label_list[i].append(label_map[out_label_ids[i][j]])\n",
    "                    preds_list[i].append(label_map[preds[i][j].item()])\n",
    "        final_preds.append(preds_list)\n",
    "    return flatten_chunk(final_preds)"
   ]
  },
  {
   "cell_type": "code",
   "execution_count": null,
   "id": "7444abbc",
   "metadata": {},
   "outputs": [],
   "source": []
  },
  {
   "cell_type": "code",
   "execution_count": null,
   "id": "b243f0f6",
   "metadata": {},
   "outputs": [],
   "source": []
  },
  {
   "cell_type": "code",
   "execution_count": null,
   "id": "23d54104",
   "metadata": {},
   "outputs": [],
   "source": []
  },
  {
   "cell_type": "code",
   "execution_count": null,
   "id": "72b84969",
   "metadata": {},
   "outputs": [],
   "source": []
  },
  {
   "cell_type": "code",
   "execution_count": 18,
   "id": "423c689c",
   "metadata": {},
   "outputs": [],
   "source": []
  },
  {
   "cell_type": "code",
   "execution_count": 2,
   "id": "2fa88467",
   "metadata": {},
   "outputs": [],
   "source": [
    "### To Load Later"
   ]
  },
  {
   "cell_type": "code",
   "execution_count": 11,
   "id": "dcaa2521",
   "metadata": {},
   "outputs": [
    {
     "name": "stderr",
     "output_type": "stream",
     "text": [
      "Some weights of the model checkpoint at bert-base-uncased were not used when initializing BertModel: ['cls.predictions.decoder.weight', 'cls.predictions.bias', 'cls.predictions.transform.LayerNorm.weight', 'cls.seq_relationship.weight', 'cls.predictions.transform.dense.bias', 'cls.seq_relationship.bias', 'cls.predictions.transform.LayerNorm.bias', 'cls.predictions.transform.dense.weight']\n",
      "- This IS expected if you are initializing BertModel from the checkpoint of a model trained on another task or with another architecture (e.g. initializing a BertForSequenceClassification model from a BertForPreTraining model).\n",
      "- This IS NOT expected if you are initializing BertModel from the checkpoint of a model that you expect to be exactly identical (initializing a BertForSequenceClassification model from a BertForSequenceClassification model).\n"
     ]
    },
    {
     "data": {
      "text/plain": [
       "<All keys matched successfully>"
      ]
     },
     "execution_count": 11,
     "metadata": {},
     "output_type": "execute_result"
    }
   ],
   "source": [
    "# special_labels = {',': 'I-COMMA',\n",
    "#                   '.': 'I-DOT',\n",
    "#                   '?': 'I-QMARK',\n",
    "#                   '!': 'I-EMARK',\n",
    "#                   ':': 'I-COLON',\n",
    "#                   ';': 'I-SEMICOLON'}\n",
    "# normal_label = 'O'\n",
    "# labels_set = list(special_labels.values()) + [normal_label]\n",
    "\n",
    "# bert_dim = 768\n",
    "# output_dim = len(labels_set)\n",
    "# batch_size = 32\n",
    "# adam_lr = 3e-5\n",
    "# epoch = 1\n",
    "# num_layers = 1\n",
    "# rnn_dim = 512\n",
    "\n",
    "# model = BertOnBLSTM(bert_dim, output_dim, num_layers, rnn_dim)\n",
    "# model.load_state_dict(torch.load(\"./bert_on_blstm_models/9/model.json\"))"
   ]
  },
  {
   "cell_type": "code",
   "execution_count": 26,
   "id": "6a7cf058",
   "metadata": {},
   "outputs": [],
   "source": [
    "import pandas as pd\n",
    "\n",
    "testdf = pd.read_csv('./preprocessed_wikitext/test.csv').dropna()"
   ]
  },
  {
   "cell_type": "code",
   "execution_count": 27,
   "id": "e70c08fd",
   "metadata": {},
   "outputs": [],
   "source": [
    "groups = [df for _, df in testdf.groupby('sentence_id')]"
   ]
  },
  {
   "cell_type": "code",
   "execution_count": 28,
   "id": "884fa23e",
   "metadata": {},
   "outputs": [],
   "source": [
    "to_predicts = []\n",
    "true_labels = []\n",
    "for i, sentence in enumerate(groups):\n",
    "    to_predicts.append(' '.join(sentence['words'].to_list()))\n",
    "    true_labels.append(sentence['labels'].to_list())"
   ]
  },
  {
   "cell_type": "code",
   "execution_count": 29,
   "id": "76b93895",
   "metadata": {},
   "outputs": [
    {
     "data": {
      "application/vnd.jupyter.widget-view+json": {
       "model_id": "6b3c57beb3fc4876a0051a9a78fcd009",
       "version_major": 2,
       "version_minor": 0
      },
      "text/plain": [
       "  0%|          | 0/5 [00:00<?, ?it/s]"
      ]
     },
     "metadata": {},
     "output_type": "display_data"
    },
    {
     "data": {
      "application/vnd.jupyter.widget-view+json": {
       "model_id": "ef0b6d94fb1549549e6ba6d2e46e5f06",
       "version_major": 2,
       "version_minor": 0
      },
      "text/plain": [
       "Testing!:   0%|          | 0/68 [00:00<?, ?it/s]"
      ]
     },
     "metadata": {},
     "output_type": "display_data"
    }
   ],
   "source": [
    "preds_list = test_model(to_predict=to_predicts, predictor_model=model, ner_model=ner_model)"
   ]
  },
  {
   "cell_type": "code",
   "execution_count": 30,
   "id": "c8f10cd0",
   "metadata": {},
   "outputs": [],
   "source": [
    "for i in range(len(preds_list)):\n",
    "    if(len(preds_list[i]) != len(true_labels[i])):\n",
    "        print('THIS IS NOT GOOD', i)"
   ]
  },
  {
   "cell_type": "code",
   "execution_count": 31,
   "id": "a476c5c0",
   "metadata": {},
   "outputs": [],
   "source": [
    "import itertools\n",
    "ps = list(itertools.chain.from_iterable(preds_list))\n",
    "ts = list(itertools.chain.from_iterable(true_labels))"
   ]
  },
  {
   "cell_type": "code",
   "execution_count": 32,
   "id": "6feed6bb",
   "metadata": {},
   "outputs": [
    {
     "data": {
      "text/plain": [
       "array([[  8817,     79,      0,      0,      7,     56,   2132],\n",
       "       [    57,   8436,      1,      1,      9,      0,    387],\n",
       "       [     0,      1,     10,      1,      0,      0,      0],\n",
       "       [     2,      3,      0,      2,      0,      0,     13],\n",
       "       [    45,     29,      0,      0,    159,     16,     61],\n",
       "       [   132,     42,      0,      0,      8,    319,     46],\n",
       "       [  2262,    300,      0,      4,     11,     20, 192224]])"
      ]
     },
     "execution_count": 32,
     "metadata": {},
     "output_type": "execute_result"
    }
   ],
   "source": [
    "from sklearn.metrics import confusion_matrix\n",
    "import matplotlib.pyplot as plt\n",
    "import seaborn as sns\n",
    "\n",
    "cm = confusion_matrix(y_true=ts,y_pred=ps, labels=labels_set)\n",
    "cm"
   ]
  },
  {
   "cell_type": "code",
   "execution_count": 33,
   "id": "615b8daf",
   "metadata": {},
   "outputs": [],
   "source": [
    "import numpy as np\n",
    "summ = np.sum(cm, axis=1)\n",
    "summ = np.expand_dims(summ, axis=1)"
   ]
  },
  {
   "cell_type": "code",
   "execution_count": 34,
   "id": "2ed91f7d",
   "metadata": {},
   "outputs": [
    {
     "data": {
      "text/plain": [
       "array([[7.94968894e-01, 7.12289244e-03, 0.00000000e+00, 0.00000000e+00,\n",
       "        6.31142368e-04, 5.04913894e-03, 1.92227933e-01],\n",
       "       [6.41097739e-03, 9.48824654e-01, 1.12473288e-04, 1.12473288e-04,\n",
       "        1.01225959e-03, 0.00000000e+00, 4.35271623e-02],\n",
       "       [0.00000000e+00, 8.33333333e-02, 8.33333333e-01, 8.33333333e-02,\n",
       "        0.00000000e+00, 0.00000000e+00, 0.00000000e+00],\n",
       "       [1.00000000e-01, 1.50000000e-01, 0.00000000e+00, 1.00000000e-01,\n",
       "        0.00000000e+00, 0.00000000e+00, 6.50000000e-01],\n",
       "       [1.45161290e-01, 9.35483871e-02, 0.00000000e+00, 0.00000000e+00,\n",
       "        5.12903226e-01, 5.16129032e-02, 1.96774194e-01],\n",
       "       [2.41316271e-01, 7.67824497e-02, 0.00000000e+00, 0.00000000e+00,\n",
       "        1.46252285e-02, 5.83180987e-01, 8.40950640e-02],\n",
       "       [1.16106580e-02, 1.53987506e-03, 0.00000000e+00, 2.05316675e-05,\n",
       "        5.64620857e-05, 1.02658338e-04, 9.86669815e-01]])"
      ]
     },
     "execution_count": 34,
     "metadata": {},
     "output_type": "execute_result"
    }
   ],
   "source": [
    "nor_cm = (cm/summ)\n",
    "nor_cm"
   ]
  },
  {
   "cell_type": "code",
   "execution_count": 35,
   "id": "73e54853",
   "metadata": {},
   "outputs": [
    {
     "data": {
      "text/plain": [
       "array([1., 1., 1., 1., 1., 1., 1.])"
      ]
     },
     "execution_count": 35,
     "metadata": {},
     "output_type": "execute_result"
    }
   ],
   "source": [
    "nor_cm.sum(axis=1)"
   ]
  },
  {
   "cell_type": "code",
   "execution_count": 36,
   "id": "a77f3abb",
   "metadata": {},
   "outputs": [
    {
     "name": "stdout",
     "output_type": "stream",
     "text": [
      "              precision    recall  f1-score   support\n",
      "\n",
      "     I-COLON       0.82      0.51      0.63       310\n",
      "     I-COMMA       0.78      0.79      0.79     11091\n",
      "       I-DOT       0.95      0.95      0.95      8891\n",
      "     I-EMARK       0.25      0.10      0.14        20\n",
      "     I-QMARK       0.91      0.83      0.87        12\n",
      " I-SEMICOLON       0.78      0.58      0.67       547\n",
      "           O       0.99      0.99      0.99    194821\n",
      "\n",
      "    accuracy                           0.97    215692\n",
      "   macro avg       0.78      0.68      0.72    215692\n",
      "weighted avg       0.97      0.97      0.97    215692\n",
      "\n"
     ]
    }
   ],
   "source": [
    "from sklearn import metrics \n",
    "print(metrics.classification_report(ts, ps))"
   ]
  },
  {
   "cell_type": "code",
   "execution_count": 37,
   "id": "b21e6580",
   "metadata": {},
   "outputs": [
    {
     "data": {
      "text/plain": [
       "Text(114.0, 0.5, 'True Label')"
      ]
     },
     "execution_count": 37,
     "metadata": {},
     "output_type": "execute_result"
    },
    {
     "data": {
      "image/png": "[encoded data removed]",
      "text/plain": [
       "<Figure size 1080x1080 with 2 Axes>"
      ]
     },
     "metadata": {
      "needs_background": "light"
     },
     "output_type": "display_data"
    }
   ],
   "source": [
    "from sklearn.metrics import confusion_matrix\n",
    "import matplotlib.pyplot as plt\n",
    "import seaborn as sns\n",
    "plot_labels = labels_set\n",
    "fig, ax = plt.subplots(figsize=(15, 15))\n",
    "sns.heatmap(nor_cm,\n",
    "            ax=ax, \n",
    "            annot=True,\n",
    "            cmap='Blues',\n",
    "            xticklabels=plot_labels,\n",
    "            yticklabels=plot_labels)\n",
    "plt.yticks(rotation=0,size=12)\n",
    "plt.xticks(size=12)\n",
    "ax.set_xlabel('Predicted Label',size=14)\n",
    "ax.set_ylabel('True Label',size=14)"
   ]
  },
  {
   "cell_type": "code",
   "execution_count": null,
   "id": "e6b3a149",
   "metadata": {},
   "outputs": [],
   "source": []
  },
  {
   "cell_type": "code",
   "execution_count": null,
   "id": "b4e220da",
   "metadata": {},
   "outputs": [],
   "source": []
  }
 ],
 "metadata": {
  "kernelspec": {
   "display_name": "Python 3 (ipykernel)",
   "language": "python",
   "name": "python3"
  },
  "language_info": {
   "codemirror_mode": {
    "name": "ipython",
    "version": 3
   },
   "file_extension": ".py",
   "mimetype": "text/x-python",
   "name": "python",
   "nbconvert_exporter": "python",
   "pygments_lexer": "ipython3",
   "version": "3.9.7"
  }
 },
 "nbformat": 4,
 "nbformat_minor": 5
}
