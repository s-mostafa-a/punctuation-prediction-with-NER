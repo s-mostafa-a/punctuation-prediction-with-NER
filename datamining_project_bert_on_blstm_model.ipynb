{
 "cells": [
  {
   "cell_type": "code",
   "execution_count": 1,
   "id": "140cc272",
   "metadata": {},
   "outputs": [],
   "source": [
    "from simpletransformers.ner import NERModel, NERArgs\n",
    "import numpy as np\n",
    "import pandas as pd\n",
    "from transformers import BertModel\n",
    "from torch import nn\n",
    "from tqdm.auto import tqdm, trange\n",
    "from torch.optim import Adam, SGD\n",
    "import torch\n",
    "from torch.utils.data import DataLoader, TensorDataset\n",
    "\n",
    "\n",
    "class BertOnBLSTM(nn.Module):\n",
    "    def __init__(self, bert_dim, output_dim, num_layers, rnn_dim):\n",
    "        super(BertOnBLSTM, self).__init__()\n",
    "        self.bert_model = BertModel.from_pretrained('bert-base-uncased')\n",
    "        self.rnn = nn.LSTM(bert_dim, rnn_dim, num_layers=num_layers, batch_first=True, bidirectional=True)\n",
    "        self.linear = nn.Linear(rnn_dim*2, output_dim)\n",
    "        self.loss_function = nn.CrossEntropyLoss()\n",
    "\n",
    "    def forward(self, x, y, seg_ids, mask):\n",
    "        bert_output = self.bert_model(x, token_type_ids=seg_ids, attention_mask=mask)\n",
    "        lstm_output, _ = self.rnn(bert_output.last_hidden_state)\n",
    "        output = self.linear(lstm_output).transpose(1, 2)\n",
    "        loss = self.loss_function(output, y)\n",
    "        return loss\n",
    "\n",
    "    def test(self, x, y, seg_ids, mask):\n",
    "        bert_output = self.bert_model(x, token_type_ids=seg_ids, attention_mask=mask)\n",
    "        lstm_output, _ = self.rnn(bert_output.last_hidden_state)\n",
    "        output = self.linear(lstm_output).transpose(1, 2)\n",
    "        loss = self.loss_function(output, y)\n",
    "        predict = self.predict_label(output.transpose(1, 2), mask)\n",
    "        return loss, predict\n",
    "\n",
    "    def predict(self, x, seg_ids, mask):\n",
    "        bert_output = self.bert_model(x, token_type_ids=seg_ids, attention_mask=mask)\n",
    "        lstm_output, _ = self.rnn(bert_output.last_hidden_state)\n",
    "        output = self.linear(lstm_output).transpose(1, 2)\n",
    "        return output.transpose(1, 2).argmax(2)\n",
    "\n",
    "    def predict_label(self, output, mask):\n",
    "        \"\"\"\n",
    "        output: batch_size, max_sentence_len, tag_num\n",
    "        mask: same label data\n",
    "        batch_label: batch_size, sentence_label\n",
    "        \"\"\"\n",
    "        pre_label = []\n",
    "        pre_label_pad = output.argmax(2)\n",
    "        for i in range(mask.shape[0]):\n",
    "            sent_label = []\n",
    "            for j in range(mask.shape[1]):\n",
    "                if mask[i, j] == 1:\n",
    "                    sent_label.append(pre_label_pad[i, j].item())\n",
    "            sent_label = sent_label[1:len(sent_label)-1]\n",
    "            pre_label.append(sent_label)\n",
    "\n",
    "        return pre_label\n"
   ]
  },
  {
   "cell_type": "code",
   "execution_count": 2,
   "id": "c5a57538",
   "metadata": {},
   "outputs": [],
   "source": [
    "special_labels = {',': 'I-COMMA',\n",
    "                  '.': 'I-DOT',\n",
    "                  '?': 'I-QMARK',\n",
    "                  '!': 'I-EMARK',\n",
    "                  ':': 'I-COLON',\n",
    "                  ';': 'I-SEMICOLON'}\n",
    "normal_label = 'O'\n",
    "labels_set = list(special_labels.values()) + [normal_label]"
   ]
  },
  {
   "cell_type": "code",
   "execution_count": 3,
   "id": "2d2d90b3",
   "metadata": {},
   "outputs": [
    {
     "name": "stderr",
     "output_type": "stream",
     "text": [
      "Some weights of the model checkpoint at bert-base-uncased were not used when initializing BertForTokenClassification: ['cls.predictions.transform.LayerNorm.bias', 'cls.predictions.bias', 'cls.predictions.transform.dense.weight', 'cls.predictions.transform.dense.bias', 'cls.predictions.transform.LayerNorm.weight', 'cls.seq_relationship.bias', 'cls.seq_relationship.weight', 'cls.predictions.decoder.weight']\n",
      "- This IS expected if you are initializing BertForTokenClassification from the checkpoint of a model trained on another task or with another architecture (e.g. initializing a BertForSequenceClassification model from a BertForPreTraining model).\n",
      "- This IS NOT expected if you are initializing BertForTokenClassification from the checkpoint of a model that you expect to be exactly identical (initializing a BertForSequenceClassification model from a BertForSequenceClassification model).\n",
      "Some weights of BertForTokenClassification were not initialized from the model checkpoint at bert-base-uncased and are newly initialized: ['classifier.weight', 'classifier.bias']\n",
      "You should probably TRAIN this model on a down-stream task to be able to use it for predictions and inference.\n"
     ]
    }
   ],
   "source": [
    "model_args = NERArgs()\n",
    "model_args.overwrite_output_dir = True\n",
    "model_args.save_steps = -1\n",
    "ner_model = NERModel('bert',\n",
    "                 'bert-base-uncased',\n",
    "                 labels = labels_set,\n",
    "                 args=model_args,\n",
    "                 use_cuda=False)\n",
    "ner_model.args.max_seq_length = 512"
   ]
  },
  {
   "cell_type": "code",
   "execution_count": null,
   "id": "557d315d",
   "metadata": {},
   "outputs": [],
   "source": [
    "train_df = pd.read_csv('./wikitext/train0-10.csv').dropna()\n",
    "validation_df = pd.read_csv('./wikitext/validation.csv').dropna()"
   ]
  },
  {
   "cell_type": "code",
   "execution_count": null,
   "id": "23966ee9",
   "metadata": {},
   "outputs": [],
   "source": [
    "train_dataset = ner_model.load_and_cache_examples(train_df[:])\n",
    "validation_dataset = ner_model.load_and_cache_examples(validation_df[:])"
   ]
  },
  {
   "cell_type": "code",
   "execution_count": null,
   "id": "66aea700",
   "metadata": {},
   "outputs": [],
   "source": [
    "len(train_dataset), len(validation_dataset)"
   ]
  },
  {
   "cell_type": "code",
   "execution_count": 8,
   "id": "fe606750",
   "metadata": {},
   "outputs": [
    {
     "name": "stderr",
     "output_type": "stream",
     "text": [
      "Some weights of the model checkpoint at bert-base-uncased were not used when initializing BertModel: ['cls.predictions.transform.LayerNorm.bias', 'cls.predictions.bias', 'cls.predictions.transform.dense.weight', 'cls.predictions.transform.dense.bias', 'cls.predictions.transform.LayerNorm.weight', 'cls.seq_relationship.bias', 'cls.seq_relationship.weight', 'cls.predictions.decoder.weight']\n",
      "- This IS expected if you are initializing BertModel from the checkpoint of a model trained on another task or with another architecture (e.g. initializing a BertForSequenceClassification model from a BertForPreTraining model).\n",
      "- This IS NOT expected if you are initializing BertModel from the checkpoint of a model that you expect to be exactly identical (initializing a BertForSequenceClassification model from a BertForSequenceClassification model).\n"
     ]
    }
   ],
   "source": [
    "bert_dim = 768\n",
    "output_dim = len(labels_set)\n",
    "batch_size = 32\n",
    "adam_lr = 3e-5\n",
    "epoch = 1\n",
    "num_layers = 1\n",
    "rnn_dim = 512\n",
    "model = BertOnBLSTM(bert_dim, output_dim, num_layers, rnn_dim)\n",
    "\n",
    "def train(model, tr_ds, val_ds):\n",
    "    use_gpu = torch.cuda.is_available()\n",
    "    device = torch.device('cuda:0' if use_gpu else 'cpu')\n",
    "    train_dataloader = DataLoader(tr_ds, batch_size=batch_size, shuffle=False)\n",
    "    validation_dataloader = DataLoader(val_ds, batch_size=batch_size, shuffle=True)\n",
    "    \n",
    "    \n",
    "    if use_gpu:\n",
    "        model.to(device)\n",
    "    optimizer = Adam(model.parameters(), lr=adam_lr)\n",
    "    for i in range(epoch):\n",
    "        epoch_loss = 0\n",
    "        batch_iterator = tqdm(train_dataloader, desc=f\"Running Epoch {i+1} of {epoch}\", mininterval=0)\n",
    "        \n",
    "        for (j, batch) in enumerate(batch_iterator):\n",
    "            batch_x = batch[0].to(device)\n",
    "            batch_y = batch[3].to(device)\n",
    "            batch_seg = batch[2].to(device)\n",
    "            batch_msk = batch[1].to(device)\n",
    "            loss = model(batch_x, batch_y, batch_seg, batch_msk)\n",
    "            optimizer.zero_grad()\n",
    "            loss.backward()\n",
    "            optimizer.step()\n",
    "            epoch_loss += loss.item()\n",
    "        dev_loss = 0\n",
    "        predict_idx_label = []\n",
    "\n",
    "        for (h, val_batch) in enumerate(validation_dataloader):\n",
    "            val_batch_x = val_batch[0].to(device)\n",
    "            val_batch_y = val_batch[3].to(device)\n",
    "            val_batch_seg = val_batch[2].to(device)\n",
    "            val_batch_msk = val_batch[1].to(device)\n",
    "            with torch.no_grad():\n",
    "                loss_val, pre_y = model.test(val_batch_x, val_batch_y, val_batch_seg, val_batch_msk)\n",
    "            dev_loss += loss_val.item()            \n",
    "            predict_idx_label.append(pre_y)\n",
    "        print(f\"Epoch {i+1}/{epoch}:\\n\\tTraining Loss: \\t\\t{epoch_loss/(j+1):9.4f}\\n\\tValidation Loss: \\t{dev_loss/(h+1):9.4f}\")\n",
    "        print('*******************************************************')\n"
   ]
  },
  {
   "cell_type": "code",
   "execution_count": null,
   "id": "d1f8ccb1",
   "metadata": {},
   "outputs": [],
   "source": [
    "train(model, train_dataset, validation_dataset)"
   ]
  },
  {
   "cell_type": "code",
   "execution_count": null,
   "id": "0d94c3ac",
   "metadata": {},
   "outputs": [],
   "source": [
    "print(model)\n"
   ]
  },
  {
   "cell_type": "code",
   "execution_count": null,
   "id": "c52617d5",
   "metadata": {},
   "outputs": [],
   "source": []
  },
  {
   "cell_type": "code",
   "execution_count": null,
   "id": "ff959b06",
   "metadata": {},
   "outputs": [],
   "source": []
  },
  {
   "cell_type": "code",
   "execution_count": null,
   "id": "24583b46",
   "metadata": {},
   "outputs": [],
   "source": []
  },
  {
   "cell_type": "code",
   "execution_count": null,
   "id": "8303f175",
   "metadata": {},
   "outputs": [],
   "source": []
  },
  {
   "cell_type": "code",
   "execution_count": null,
   "id": "08f422d5",
   "metadata": {},
   "outputs": [],
   "source": []
  },
  {
   "cell_type": "code",
   "execution_count": 4,
   "id": "a0aa2cc9",
   "metadata": {},
   "outputs": [],
   "source": [
    "def chunks(l, n):\n",
    "    for i in range(0, len(l), n):\n",
    "        yield l[i:i + n]\n"
   ]
  },
  {
   "cell_type": "code",
   "execution_count": 32,
   "id": "c5194608",
   "metadata": {},
   "outputs": [],
   "source": [
    "def flatten_chunk(l):\n",
    "    flat_list = []\n",
    "    for sublist in l:\n",
    "        for item in sublist:\n",
    "            flat_list.append(item)\n",
    "    return flat_list"
   ]
  },
  {
   "cell_type": "code",
   "execution_count": 33,
   "id": "55dedd09",
   "metadata": {},
   "outputs": [
    {
     "data": {
      "text/plain": [
       "[1, 2, 3, 4, 5, 6, 7, 8, 9]"
      ]
     },
     "execution_count": 33,
     "metadata": {},
     "output_type": "execute_result"
    }
   ],
   "source": [
    "flatten_chunk(list(chunks([1,2,3,4,5,6,7,8,9], 4)))"
   ]
  },
  {
   "cell_type": "code",
   "execution_count": null,
   "id": "1a118bca",
   "metadata": {},
   "outputs": [],
   "source": []
  },
  {
   "cell_type": "code",
   "execution_count": 34,
   "id": "f53168d7",
   "metadata": {},
   "outputs": [],
   "source": [
    "from torch.utils.data import DataLoader, RandomSampler, SequentialSampler, TensorDataset\n",
    "from simpletransformers.ner.ner_utils import InputExample\n",
    "\n",
    "def test_model(to_predict, predictor_model, ner_model):\n",
    "    predict_examples = [InputExample(i,sentence.split(),[ner_model.args.labels_list[0] for word in sentence.lower().split()],) for i, sentence in enumerate(to_predict)]\n",
    "    eval_dataset = ner_model.load_and_cache_examples(None, evaluate=True, no_cache=True, to_predict=predict_examples)\n",
    "    eval_sampler = SequentialSampler(eval_dataset)\n",
    "    eval_dataloader = DataLoader(eval_dataset, sampler=eval_sampler, batch_size=batch_size)\n",
    "    \n",
    "    batch_to_predict = list(chunks(to_predict, batch_size))\n",
    "    eval_batch_iterator = tqdm(eval_dataloader, desc=f\"Testing!\", mininterval=0)\n",
    "    use_gpu = torch.cuda.is_available()\n",
    "    device = torch.device('cuda:0' if use_gpu else 'cpu')\n",
    "    model.to(device)\n",
    "    final_preds = []\n",
    "    for (j, val_batch) in enumerate(eval_batch_iterator):\n",
    "        val_batch_x = val_batch[0].to(device)\n",
    "        val_batch_y = val_batch[3].to(device)\n",
    "        val_batch_seg = val_batch[2].to(device)\n",
    "        val_batch_msk = val_batch[1].to(device)\n",
    "        with torch.no_grad():\n",
    "            pre_y = predictor_model.predict(val_batch_x, val_batch_seg, val_batch_msk)\n",
    "        out_label_ids = [[] for _ in range(len(val_batch_x))]\n",
    "\n",
    "        max_len = np.max([len(x) for x in val_batch_x])\n",
    "        for index, sentence in enumerate(batch_to_predict[j]):\n",
    "            for word in sentence.split():\n",
    "                word_tokens = ner_model.tokenizer.tokenize(word)\n",
    "                out_label_ids[index].extend([0] + [-100] * (len(word_tokens) - 1))\n",
    "            out_label_ids[index].insert(0, -100)\n",
    "            out_label_ids[index].append(-100)\n",
    "            if len(out_label_ids[index]) < max_len:\n",
    "                out_label_ids[index].extend([-100] * (max_len - len(out_label_ids[index])))\n",
    "        xfer_label_ids = np.zeros((len(out_label_ids), max_len))\n",
    "        for i, out_label_id in enumerate(out_label_ids):\n",
    "            for j, label in enumerate(out_label_id):\n",
    "                xfer_label_ids[i][j] = np.int32(label)\n",
    "        out_label_ids = np.array([list(x) for x in out_label_ids], np.int32)\n",
    "        preds = pre_y.to(\"cpu\")\n",
    "        label_map = {i: label for i, label in enumerate(labels_set)}\n",
    "        out_label_list = [[] for _ in range(out_label_ids.shape[0])]\n",
    "        preds_list = [[] for _ in range(out_label_ids.shape[0])]\n",
    "        for i in range(out_label_ids.shape[0]):\n",
    "            for j in range(out_label_ids.shape[1]):\n",
    "                if out_label_ids[i, j] != -100:\n",
    "                    out_label_list[i].append(label_map[out_label_ids[i][j]])\n",
    "                    preds_list[i].append(label_map[preds[i][j].item()])\n",
    "        final_preds.append(preds_list)\n",
    "    return flatten_chunk(final_preds)"
   ]
  },
  {
   "cell_type": "code",
   "execution_count": 35,
   "id": "bc509a67",
   "metadata": {},
   "outputs": [
    {
     "data": {
      "application/vnd.jupyter.widget-view+json": {
       "model_id": "d7de9bc9f71c43feba5c90b4b90946f3",
       "version_major": 2,
       "version_minor": 0
      },
      "text/plain": [
       "  0%|          | 0/1 [00:00<?, ?it/s]"
      ]
     },
     "metadata": {},
     "output_type": "display_data"
    },
    {
     "data": {
      "application/vnd.jupyter.widget-view+json": {
       "model_id": "01039bdcabac48ea93fa515bd411023c",
       "version_major": 2,
       "version_minor": 0
      },
      "text/plain": [
       "Testing!:   0%|          | 0/1 [00:00<?, ?it/s]"
      ]
     },
     "metadata": {},
     "output_type": "display_data"
    },
    {
     "name": "stdout",
     "output_type": "stream",
     "text": [
      "25\n",
      "25\n",
      "18\n",
      "18\n",
      "50\n",
      "50\n",
      "20\n",
      "20\n",
      "56\n",
      "56\n",
      "24\n",
      "24\n",
      "220\n",
      "220\n",
      "[['O', 'O', 'O', 'O', 'O', 'O', 'O', 'O', 'O', 'O', 'O', 'O', 'O', 'O', 'O', 'O', 'O', 'O', 'O', 'O', 'O', 'O', 'O', 'O', 'O'], ['O', 'O', 'O', 'O', 'O', 'O', 'O', 'O', 'O', 'O', 'O', 'O', 'O', 'O', 'O', 'O', 'O', 'O'], ['O', 'O', 'O', 'O', 'O', 'O', 'O', 'O', 'O', 'O', 'O', 'O', 'O', 'O', 'O', 'O', 'O', 'O', 'O', 'O', 'O', 'O', 'O', 'O', 'O', 'O', 'O', 'O', 'O', 'O', 'O', 'O', 'O', 'O', 'O', 'O', 'O', 'O', 'O', 'O', 'O', 'O', 'O', 'O', 'O', 'O', 'O', 'O', 'O', 'O'], ['O', 'O', 'O', 'O', 'O', 'O', 'O', 'O', 'O', 'O', 'O', 'O', 'O', 'O', 'O', 'O', 'O', 'O', 'O', 'O'], ['O', 'O', 'O', 'O', 'O', 'O', 'O', 'O', 'O', 'O', 'O', 'O', 'O', 'O', 'O', 'O', 'O', 'O', 'O', 'O', 'O', 'O', 'O', 'O', 'O', 'O', 'O', 'O', 'O', 'O', 'O', 'O', 'O', 'O', 'O', 'O', 'O', 'O', 'O', 'O', 'O', 'O', 'O', 'O', 'O', 'O', 'O', 'O', 'O', 'O', 'O', 'O', 'O', 'O', 'O', 'O'], ['O', 'O', 'O', 'O', 'O', 'O', 'O', 'O', 'O', 'O', 'O', 'O', 'O', 'O', 'O', 'O', 'O', 'O', 'O', 'O', 'O', 'O', 'O', 'O'], ['O', 'O', 'O', 'O', 'O', 'O', 'O', 'O', 'O', 'O', 'O', 'O', 'O', 'O', 'O', 'O', 'O', 'O', 'O', 'O', 'O', 'O', 'O', 'O', 'O', 'O', 'O', 'O', 'O', 'O', 'O', 'O', 'O', 'O', 'O', 'O', 'O', 'O', 'O', 'O', 'O', 'O', 'O', 'O', 'O', 'O', 'O', 'O', 'O', 'O', 'O', 'O', 'O', 'O', 'O', 'O', 'O', 'O', 'O', 'O', 'O', 'O', 'O', 'O', 'O', 'O', 'O', 'O', 'O', 'O', 'O', 'O', 'O', 'O', 'O', 'O', 'O', 'O', 'O', 'O', 'O', 'O', 'O', 'O', 'O', 'O', 'O', 'O', 'O', 'O', 'O', 'O', 'O', 'O', 'O', 'O', 'O', 'O', 'O', 'O', 'O', 'O', 'O', 'O', 'O', 'O', 'O', 'O', 'O', 'O', 'O', 'O', 'O', 'O', 'O', 'O', 'O', 'O', 'O', 'O', 'O', 'O', 'O', 'O', 'O', 'O', 'O', 'O', 'O', 'O', 'O', 'O', 'O', 'O', 'O', 'O', 'O', 'O', 'O', 'O', 'O', 'O', 'O', 'O', 'O', 'O', 'O', 'O', 'O', 'O', 'O', 'O', 'O', 'O', 'O', 'O', 'O', 'O', 'O', 'O', 'O', 'O', 'O', 'O', 'O', 'O', 'O', 'O', 'O', 'O', 'O', 'O', 'O', 'O', 'O', 'O', 'O', 'O', 'O', 'O', 'O', 'O', 'O', 'O', 'O', 'O', 'O', 'O', 'O', 'O', 'O', 'O', 'O', 'O', 'O', 'O', 'O', 'O', 'O', 'O', 'O', 'O', 'O', 'O', 'O', 'O', 'O', 'O', 'O', 'O', 'O', 'O', 'O', 'O', 'O', 'O', 'O', 'O', 'O', 'O']]\n"
     ]
    }
   ],
   "source": [
    "to_predict = [\"First the reading points out that it is imperative for the employees to participate in meetings because meetings are effective for talking about controversial subjects\", \"This is in direct contrast with the statement of the listening which contends that meetings should be avoided\", \"He explains that in long meetings bosses spend time reciting introductory information Thus employees do not pay attention in a meeting exceeding an hour Therefore he suggests that the employees politely decline the meeting pointing at a pressing obligation that can be done through a quick phone call or email\", \"In addition the writer says that it employees should make effort to read all of the training and supplementary material\", \"When reading such articles the author explains that it is instrumental for the employees to pay attention to the details of the text However the professor refutes this argument claiming that employees should rather try to find the main idea rather than focusing on the intricate details since it takes up an unnecessary amount of time\", \"He goes as far to claim that employees should refuse to read the entire material even if their bosses request them to do so\",\n",
    "             \"Finally according to the reading employees should write their report in one attempt Since the employees are no longer in university they no longer have the luxury to waste time in separating the steps when writing This is challenged by the argument of the listening material that when one does not separate the steps in writing it can be more tire time consuming Thus the professor recommends that the employees write divide the writing into three distinct steps creating an outline writing a first draft and revising the essay In this way the professor ascertains that employees will be able to complete their writing in a timely and accurate manner Finally according to the reading employees should write their report in one attempt Since the employees are no longer in university they no longer have the luxury to waste time in separating the steps when writing This is challenged by the argument of the listening material that when one does not separate the steps in writing it can be more tire time consuming Thus the professor recommends that the employees write divide the writing into three distinct steps creating an outline writing a first draft and revising the essay In this way the professor ascertains that employees will be able to complete their writing in a timely and accurate manner\"]\n",
    "out_labels = test_model(to_predict=to_predict, predictor_model=model, ner_model=ner_model)\n",
    "\n",
    "for i, sent in enumerate(to_predict):\n",
    "    print(len(sent.split()))\n",
    "    print(len(out_labels[i]))\n",
    "print(out_labels)\n"
   ]
  },
  {
   "cell_type": "code",
   "execution_count": null,
   "id": "7444abbc",
   "metadata": {},
   "outputs": [],
   "source": []
  },
  {
   "cell_type": "code",
   "execution_count": null,
   "id": "b243f0f6",
   "metadata": {},
   "outputs": [],
   "source": []
  },
  {
   "cell_type": "code",
   "execution_count": null,
   "id": "23d54104",
   "metadata": {},
   "outputs": [],
   "source": []
  },
  {
   "cell_type": "code",
   "execution_count": null,
   "id": "72b84969",
   "metadata": {},
   "outputs": [],
   "source": []
  },
  {
   "cell_type": "code",
   "execution_count": null,
   "id": "423c689c",
   "metadata": {},
   "outputs": [],
   "source": [
    "torch.save(model.state_dict(), \"./bert_on_blstm_models/0/model.json\")"
   ]
  },
  {
   "cell_type": "code",
   "execution_count": 2,
   "id": "2fa88467",
   "metadata": {},
   "outputs": [],
   "source": [
    "### To Load Later"
   ]
  },
  {
   "cell_type": "code",
   "execution_count": 36,
   "id": "dcaa2521",
   "metadata": {},
   "outputs": [
    {
     "name": "stderr",
     "output_type": "stream",
     "text": [
      "Some weights of the model checkpoint at bert-base-uncased were not used when initializing BertModel: ['cls.predictions.transform.LayerNorm.bias', 'cls.predictions.bias', 'cls.predictions.transform.dense.weight', 'cls.predictions.transform.dense.bias', 'cls.predictions.transform.LayerNorm.weight', 'cls.seq_relationship.bias', 'cls.seq_relationship.weight', 'cls.predictions.decoder.weight']\n",
      "- This IS expected if you are initializing BertModel from the checkpoint of a model trained on another task or with another architecture (e.g. initializing a BertForSequenceClassification model from a BertForPreTraining model).\n",
      "- This IS NOT expected if you are initializing BertModel from the checkpoint of a model that you expect to be exactly identical (initializing a BertForSequenceClassification model from a BertForSequenceClassification model).\n"
     ]
    },
    {
     "data": {
      "text/plain": [
       "<All keys matched successfully>"
      ]
     },
     "execution_count": 36,
     "metadata": {},
     "output_type": "execute_result"
    }
   ],
   "source": [
    "special_labels = {',': 'I-COMMA',\n",
    "                  '.': 'I-DOT',\n",
    "                  '?': 'I-QMARK',\n",
    "                  '!': 'I-EMARK',\n",
    "                  ':': 'I-COLON',\n",
    "                  ';': 'I-SEMICOLON'}\n",
    "normal_label = 'O'\n",
    "labels_set = list(special_labels.values()) + [normal_label]\n",
    "\n",
    "bert_dim = 768\n",
    "output_dim = len(labels_set)\n",
    "batch_size = 32\n",
    "adam_lr = 3e-5\n",
    "epoch = 1\n",
    "num_layers = 1\n",
    "rnn_dim = 512\n",
    "\n",
    "model = BertOnBLSTM(bert_dim, output_dim, num_layers, rnn_dim)\n",
    "model.load_state_dict(torch.load(\"./bert_on_blstm_models/0/model.json\"))"
   ]
  },
  {
   "cell_type": "code",
   "execution_count": 37,
   "id": "6a7cf058",
   "metadata": {},
   "outputs": [],
   "source": [
    "import pandas as pd\n",
    "\n",
    "testdf = pd.read_csv('./preprocessed_wikitext/test.csv').dropna()"
   ]
  },
  {
   "cell_type": "code",
   "execution_count": 39,
   "id": "e70c08fd",
   "metadata": {},
   "outputs": [],
   "source": [
    "groups = [df for _, df in testdf.groupby('sentence_id')]"
   ]
  },
  {
   "cell_type": "code",
   "execution_count": 52,
   "id": "884fa23e",
   "metadata": {},
   "outputs": [],
   "source": [
    "to_predicts = []\n",
    "true_labels = []\n",
    "for i, sentence in enumerate(groups):\n",
    "    to_predicts.append(' '.join(sentence['words'].to_list()))\n",
    "    true_labels.append(sentence['labels'].to_list())"
   ]
  },
  {
   "cell_type": "code",
   "execution_count": 43,
   "id": "76b93895",
   "metadata": {},
   "outputs": [
    {
     "data": {
      "application/vnd.jupyter.widget-view+json": {
       "model_id": "a147e30f471d4a8c93ab2c7852865f17",
       "version_major": 2,
       "version_minor": 0
      },
      "text/plain": [
       "  0%|          | 0/5 [00:00<?, ?it/s]"
      ]
     },
     "metadata": {},
     "output_type": "display_data"
    },
    {
     "data": {
      "application/vnd.jupyter.widget-view+json": {
       "model_id": "a45e65b984dc40589d0bd965fbbfd020",
       "version_major": 2,
       "version_minor": 0
      },
      "text/plain": [
       "Testing!:   0%|          | 0/68 [00:00<?, ?it/s]"
      ]
     },
     "metadata": {},
     "output_type": "display_data"
    }
   ],
   "source": [
    "preds_list = test_model(to_predict=to_predicts, predictor_model=model, ner_model=ner_model)"
   ]
  },
  {
   "cell_type": "code",
   "execution_count": 54,
   "id": "c8f10cd0",
   "metadata": {},
   "outputs": [],
   "source": [
    "for i in range(len(preds_list)):\n",
    "    if(len(preds_list[i]) != len(true_labels[i])):\n",
    "        print('THIS IS NOT GOOD', i)"
   ]
  },
  {
   "cell_type": "code",
   "execution_count": 56,
   "id": "a476c5c0",
   "metadata": {},
   "outputs": [],
   "source": [
    "import itertools\n",
    "ps = list(itertools.chain.from_iterable(preds_list))\n",
    "ts = list(itertools.chain.from_iterable(true_labels))"
   ]
  },
  {
   "cell_type": "code",
   "execution_count": 57,
   "id": "6feed6bb",
   "metadata": {},
   "outputs": [
    {
     "data": {
      "text/plain": [
       "array([[     0,      0,      0,      0,      0,      0,  11091],\n",
       "       [     0,      0,      0,      0,      0,      0,   8891],\n",
       "       [     0,      0,      0,      0,      0,      0,     12],\n",
       "       [     0,      0,      0,      0,      0,      0,     20],\n",
       "       [     0,      0,      0,      0,      0,      0,    310],\n",
       "       [     0,      0,      0,      0,      0,      0,    547],\n",
       "       [     0,      0,      0,      0,      0,      0, 194821]])"
      ]
     },
     "execution_count": 57,
     "metadata": {},
     "output_type": "execute_result"
    }
   ],
   "source": [
    "from sklearn.metrics import confusion_matrix\n",
    "import matplotlib.pyplot as plt\n",
    "import seaborn as sns\n",
    "\n",
    "cm = confusion_matrix(y_true=ts,y_pred=ps, labels=labels_set)\n",
    "cm"
   ]
  },
  {
   "cell_type": "code",
   "execution_count": 58,
   "id": "615b8daf",
   "metadata": {},
   "outputs": [],
   "source": [
    "import numpy as np\n",
    "summ = np.sum(cm, axis=1)\n",
    "summ = np.expand_dims(summ, axis=1)"
   ]
  },
  {
   "cell_type": "code",
   "execution_count": 59,
   "id": "2ed91f7d",
   "metadata": {},
   "outputs": [
    {
     "data": {
      "text/plain": [
       "array([[0., 0., 0., 0., 0., 0., 1.],\n",
       "       [0., 0., 0., 0., 0., 0., 1.],\n",
       "       [0., 0., 0., 0., 0., 0., 1.],\n",
       "       [0., 0., 0., 0., 0., 0., 1.],\n",
       "       [0., 0., 0., 0., 0., 0., 1.],\n",
       "       [0., 0., 0., 0., 0., 0., 1.],\n",
       "       [0., 0., 0., 0., 0., 0., 1.]])"
      ]
     },
     "execution_count": 59,
     "metadata": {},
     "output_type": "execute_result"
    }
   ],
   "source": [
    "nor_cm = (cm/summ)\n",
    "nor_cm"
   ]
  },
  {
   "cell_type": "code",
   "execution_count": 60,
   "id": "73e54853",
   "metadata": {},
   "outputs": [
    {
     "data": {
      "text/plain": [
       "array([1., 1., 1., 1., 1., 1., 1.])"
      ]
     },
     "execution_count": 60,
     "metadata": {},
     "output_type": "execute_result"
    }
   ],
   "source": [
    "nor_cm.sum(axis=1)"
   ]
  },
  {
   "cell_type": "code",
   "execution_count": 61,
   "id": "a77f3abb",
   "metadata": {},
   "outputs": [
    {
     "name": "stderr",
     "output_type": "stream",
     "text": [
      "/home/mostafa/anaconda3/lib/python3.9/site-packages/sklearn/metrics/_classification.py:1248: UndefinedMetricWarning: Precision and F-score are ill-defined and being set to 0.0 in labels with no predicted samples. Use `zero_division` parameter to control this behavior.\n",
      "  _warn_prf(average, modifier, msg_start, len(result))\n",
      "/home/mostafa/anaconda3/lib/python3.9/site-packages/sklearn/metrics/_classification.py:1248: UndefinedMetricWarning: Precision and F-score are ill-defined and being set to 0.0 in labels with no predicted samples. Use `zero_division` parameter to control this behavior.\n",
      "  _warn_prf(average, modifier, msg_start, len(result))\n"
     ]
    },
    {
     "name": "stdout",
     "output_type": "stream",
     "text": [
      "              precision    recall  f1-score   support\n",
      "\n",
      "     I-COLON       0.00      0.00      0.00       310\n",
      "     I-COMMA       0.00      0.00      0.00     11091\n",
      "       I-DOT       0.00      0.00      0.00      8891\n",
      "     I-EMARK       0.00      0.00      0.00        20\n",
      "     I-QMARK       0.00      0.00      0.00        12\n",
      " I-SEMICOLON       0.00      0.00      0.00       547\n",
      "           O       0.90      1.00      0.95    194821\n",
      "\n",
      "    accuracy                           0.90    215692\n",
      "   macro avg       0.13      0.14      0.14    215692\n",
      "weighted avg       0.82      0.90      0.86    215692\n",
      "\n"
     ]
    },
    {
     "name": "stderr",
     "output_type": "stream",
     "text": [
      "/home/mostafa/anaconda3/lib/python3.9/site-packages/sklearn/metrics/_classification.py:1248: UndefinedMetricWarning: Precision and F-score are ill-defined and being set to 0.0 in labels with no predicted samples. Use `zero_division` parameter to control this behavior.\n",
      "  _warn_prf(average, modifier, msg_start, len(result))\n"
     ]
    }
   ],
   "source": [
    "from sklearn import metrics \n",
    "print(metrics.classification_report(ts, ps))"
   ]
  },
  {
   "cell_type": "code",
   "execution_count": 62,
   "id": "b21e6580",
   "metadata": {},
   "outputs": [
    {
     "data": {
      "text/plain": [
       "Text(114.0, 0.5, 'True Label')"
      ]
     },
     "execution_count": 62,
     "metadata": {},
     "output_type": "execute_result"
    },
    {
     "data": {
      "image/png": "[encoded data removed]",
      "text/plain": [
       "<Figure size 1080x1080 with 2 Axes>"
      ]
     },
     "metadata": {
      "needs_background": "light"
     },
     "output_type": "display_data"
    }
   ],
   "source": [
    "from sklearn.metrics import confusion_matrix\n",
    "import matplotlib.pyplot as plt\n",
    "import seaborn as sns\n",
    "plot_labels = labels_set\n",
    "fig, ax = plt.subplots(figsize=(15, 15))\n",
    "sns.heatmap(nor_cm,\n",
    "            ax=ax, \n",
    "            annot=True,\n",
    "            cmap='Blues',\n",
    "            xticklabels=plot_labels,\n",
    "            yticklabels=plot_labels)\n",
    "plt.yticks(rotation=0,size=12)\n",
    "plt.xticks(size=12)\n",
    "ax.set_xlabel('Predicted Label',size=14)\n",
    "ax.set_ylabel('True Label',size=14)"
   ]
  },
  {
   "cell_type": "code",
   "execution_count": null,
   "id": "e6b3a149",
   "metadata": {},
   "outputs": [],
   "source": []
  }
 ],
 "metadata": {
  "kernelspec": {
   "display_name": "Python 3 (ipykernel)",
   "language": "python",
   "name": "python3"
  },
  "language_info": {
   "codemirror_mode": {
    "name": "ipython",
    "version": 3
   },
   "file_extension": ".py",
   "mimetype": "text/x-python",
   "name": "python",
   "nbconvert_exporter": "python",
   "pygments_lexer": "ipython3",
   "version": "3.9.7"
  }
 },
 "nbformat": 4,
 "nbformat_minor": 5
}
